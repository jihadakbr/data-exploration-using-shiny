{
 "cells": [
  {
   "cell_type": "markdown",
   "id": "3c76229b",
   "metadata": {},
   "source": [
    "<h1 align=\"center\">Lead Time - Rakamin Academy</h1>"
   ]
  },
  {
   "cell_type": "markdown",
   "id": "7e4408fc",
   "metadata": {
    "tags": []
   },
   "source": [
    "###### By: [jihad akbar](https://github.com/jihadakbr) | Dataset: Rakamin Academy's internal database\n",
    "\n",
    "###### You can see this notebook clearly using this link [nbviewer.org](https://nbviewer.org/github/jihadakbr/data-exploration-using-shiny/blob/main/jupyter-notebook/data-exploration-using-shiny.ipynb)."
   ]
  },
  {
   "cell_type": "markdown",
   "id": "d34fb2ad",
   "metadata": {
    "tags": []
   },
   "source": [
    "<div id=\"toc\"><h1>Table of Contents</h1></div>\n",
    "\n",
    "<div id=\"backTotop\" class=\"alert alert-block alert-info\">\n",
    "    <ol>\n",
    "        <li><a href=\"#one\">Problem Formulation</a>\n",
    "            <ol style=\"list-style-type:none;padding-left:0\">\n",
    "                <li>1.1 <a href=\"#prompt\">Project Prompt</a></li>\n",
    "                <li>1.2 <a href=\"#tools\">Selecting Appropriate Tools</a></li>\n",
    "            </ol>  \n",
    "        </li>\n",
    "        <li><a href=\"#two\">Data Collecting</a></li>\n",
    "        <li><a href=\"#three\">Data Understanding</a>\n",
    "            <ol style=\"list-style-type:none;padding-left:0\">\n",
    "                <li>3.1 <a href=\"#datasetcontent\">Reviewing the Dataset's Content</a></li>\n",
    "            </ol>\n",
    "        </li>\n",
    "        <li><a href=\"#four\">Data preprocessing</a>\n",
    "            <ol style=\"list-style-type:none;padding-left:0\">\n",
    "                <li>4.1 <a href=\"#libraries\">Importing Required Libraries</a></li>\n",
    "                <li>4.2 <a href=\"#reading\">Importing and Reading the File</a></li>\n",
    "                <li>4.3 <a href=\"#datadistribution\">Analyzing Data Distribution</a></li>\n",
    "                <li>4.4 <a href=\"#correctmispelled\">Correcting Misspelled</a></li>\n",
    "                <li>4.5 <a href=\"#pythondropcols\">Dropping Unnecessary Columns and Removing 70% Missing Values</a></li>\n",
    "                <li>4.6 <a href=\"#dupvalues\">Removing Duplicated Values</a></li>\n",
    "                <li>4.7 <a href=\"#creatnefeatures\">Creating New Features</a></li>\n",
    "                <li>4.8 <a href=\"#splittingtraintest\">Splitting the Dataset into Training and Test Sets</a></li>\n",
    "                <li>4.9 <a href=\"#outliers\">Detecting and Handling Outliers</a></li>\n",
    "                <li>4.10 <a href=\"#dropsavecols\">Dropping and Saving Columns</a></li>\n",
    "            </ol>\n",
    "        </li>\n",
    "        <li><a href=\"#five\">Exploratory Data Analysis (EDA) and Data Visualization</a>\n",
    "            <ol style=\"list-style-type:none;padding-left:0\">\n",
    "                <li>5.1 <a href=\"#edadist\">Analyzing Numerical Distribution</a></li>           \n",
    "                <li>5.2 <a href=\"#edaplothist\">Plotting Histograms of Selected Categorical Variables to Target Variable</a></li>\n",
    "            </ol>  \n",
    "        </li>\n",
    "        <li><a href=\"#six\">Feature Selection and Engineering</a>\n",
    "            <ol style=\"list-style-type:none;padding-left:0\">\n",
    "                <li>6.1 <a href=\"#utilchisquare\">Chi Square Test (Categorical Features)</a></li>\n",
    "                <li>6.2 <a href=\"#anovaa\">ANOVA (Numerical Features)</a></li>\n",
    "                <li>6.3 <a href=\"#corrmatrix\">Correlation Matrix</a></li>\n",
    "            </ol>  \n",
    "        </li>\n",
    "    </ol>\n",
    "</div>"
   ]
  },
  {
   "cell_type": "markdown",
   "id": "52cd95a5",
   "metadata": {},
   "source": [
    "<div id=\"one\">\n",
    "    <div style=\"font-size:25pt;color:red;font-weight:700;padding:20px 0;line-height:1.2\">1. Problem Formulation</div>\n",
    "    <div style=\"text-align: right;\"><a href=\"#toc\" style=\"text-decoration:none;\">↑ Table of Contents</a></div>\n",
    "</div>"
   ]
  },
  {
   "cell_type": "markdown",
   "id": "b646e987",
   "metadata": {},
   "source": [
    "<div id=\"prompt\">\n",
    "    <div style=\"font-size:20pt;font-weight:700;padding:20px 0;line-height:1.2\">1.1 Project Prompt</div>\n",
    "    <div style=\"text-align: right;\"><a href=\"#toc\" style=\"text-decoration:none;\">↑ Table of Contents</a></div>\n",
    "</div>"
   ]
  },
  {
   "cell_type": "markdown",
   "id": "c40c1e08",
   "metadata": {},
   "source": [
    "The primary business objective for Rakamin Academy is to identify opportunities for scaling up strategy and planning, with a specific focus on analyzing the Virtual Project-Based Internship (PBI) product. To achieve this goal, I aim to accomplish the following objectives: Firstly, I will seek to discern patterns in user purchase behavior related to the PBI product. Secondly, I intend to gain insights into customer distribution based on their geographical location, among other factors. Lastly, I aim to measure and optimize the lead time from the initial contact with potential customers until they make a payment, enhancing the efficiency of our sales process. These objectives will guide my efforts in maximizing the potential of the PBI product and driving growth for Rakamin Academy."
   ]
  },
  {
   "cell_type": "markdown",
   "id": "2a7e7689",
   "metadata": {},
   "source": [
    "<div id=\"tools\">\n",
    "    <div style=\"font-size:20pt;font-weight:700;padding:20px 0;line-height:1.2\">1.2 Selecting Appropriate Tools</div>\n",
    "    <div style=\"text-align: right;\"><a href=\"#toc\" style=\"text-decoration:none;\">↑ Table of Contents</a></div>\n",
    "</div>"
   ]
  },
  {
   "cell_type": "markdown",
   "id": "9c4201eb",
   "metadata": {},
   "source": [
    "* Programming language: R.\n",
    "* Data Tool: Jupyter Notebook.\n",
    "* Reporting Tool: Microsoft PowerPoint."
   ]
  },
  {
   "cell_type": "markdown",
   "id": "417da9bc",
   "metadata": {},
   "source": [
    "<div id=\"two\">\n",
    "    <div style=\"font-size:25pt;color:red;font-weight:700;padding:20px 0;line-height:1.2\">2. Data Collecting</div>\n",
    "    <div style=\"text-align: right;\"><a href=\"#toc\" style=\"text-decoration:none;\">↑ Table of Contents</a></div>\n",
    "</div>"
   ]
  },
  {
   "cell_type": "markdown",
   "id": "9d22d16f",
   "metadata": {},
   "source": [
    "I will utilize a dataset from Rakamin Academy's internal database pertaining to Consumer Behavior on the Virtual Project-Based Internship (PBI) product."
   ]
  },
  {
   "cell_type": "markdown",
   "id": "4c229e26",
   "metadata": {},
   "source": [
    "<div id=\"three\">\n",
    "    <div style=\"font-size:25pt;color:red;font-weight:700;padding:20px 0;line-height:1.2\">3. Data Understanding</div>\n",
    "    <div style=\"text-align: right;\"><a href=\"#toc\" style=\"text-decoration:none;\">↑ Table of Contents</a></div>\n",
    "</div>"
   ]
  },
  {
   "cell_type": "markdown",
   "id": "f678a790",
   "metadata": {},
   "source": [
    "<div id=\"datasetcontent\">\n",
    "    <div style=\"font-size:20pt;font-weight:700;padding:20px 0;line-height:1.2\">3.1 Reviewing the Dataset's Content</div>\n",
    "    <div style=\"text-align: right;\"><a href=\"#toc\" style=\"text-decoration:none;\">↑ Table of Contents</a></div>\n",
    "</div>"
   ]
  },
  {
   "cell_type": "markdown",
   "id": "c6542843",
   "metadata": {},
   "source": [
    "| No. | Row | Description |\n",
    "|:-:|:--|:--|\n",
    "|\t1\t|\tuser_id\t|\tThe user's ID\t|\n",
    "|\t2\t|\tfirst_contact\t|\tThe date of the user's first contact with the PBI program\t|\n",
    "|\t3\t|\tcheckout_date\t|\tThe date of the user's checkout from the PBI program   |\n",
    "|\t4\t|\tpaid_date\t|\tThe user's paid date for the PBI program   |\n",
    "|\t5\t|\tchannel\t|\tHow do the users know about the PBI program   |\n",
    "|\t6\t|\toccupation\t|\tUsers' occupation   |\n",
    "|\t7\t|\tcity\t|\tCity of users   |\n",
    "|\t8\t|\tage\t|\tAge of users   |"
   ]
  },
  {
   "cell_type": "markdown",
   "id": "c97aa9d5",
   "metadata": {},
   "source": [
    "Target Variable Description:\n",
    "* Target variable = lead_time_in_days (paid_date - first_contact)"
   ]
  },
  {
   "cell_type": "markdown",
   "id": "9fa29de4",
   "metadata": {},
   "source": [
    "<div id=\"four\">\n",
    "    <div style=\"font-size:25pt;color:red;font-weight:700;padding:20px 0;line-height:1.2\">4. Data preprocessing</div>\n",
    "    <div style=\"text-align: right;\"><a href=\"#toc\" style=\"text-decoration:none;\">↑ Table of Contents</a></div>\n",
    "</div>"
   ]
  },
  {
   "cell_type": "markdown",
   "id": "c9d3ab80",
   "metadata": {},
   "source": [
    "<div id=\"libraries\">\n",
    "    <div style=\"font-size:20pt;font-weight:700;padding:20px 0;line-height:1.2\">4.1 Importing Required Libraries</div>\n",
    "    <div style=\"text-align: right;\"><a href=\"#toc\" style=\"text-decoration:none;\">↑ Table of Contents</a></div>\n",
    "</div>"
   ]
  },
  {
   "cell_type": "code",
   "execution_count": 1,
   "id": "fbbb6814",
   "metadata": {},
   "outputs": [
    {
     "name": "stderr",
     "output_type": "stream",
     "text": [
      "-- \u001b[1mAttaching packages\u001b[22m ------------------------------------------------------------------------------ tidymodels 1.0.0 --\n",
      "\n",
      "\u001b[32mv\u001b[39m \u001b[34mbroom       \u001b[39m 1.0.5     \u001b[32mv\u001b[39m \u001b[34mrecipes     \u001b[39m 1.0.8\n",
      "\u001b[32mv\u001b[39m \u001b[34mdials       \u001b[39m 1.2.0     \u001b[32mv\u001b[39m \u001b[34mrsample     \u001b[39m 1.2.0\n",
      "\u001b[32mv\u001b[39m \u001b[34mdplyr       \u001b[39m 1.1.2     \u001b[32mv\u001b[39m \u001b[34mtibble      \u001b[39m 3.2.1\n",
      "\u001b[32mv\u001b[39m \u001b[34mggplot2     \u001b[39m 3.4.3     \u001b[32mv\u001b[39m \u001b[34mtidyr       \u001b[39m 1.3.0\n",
      "\u001b[32mv\u001b[39m \u001b[34minfer       \u001b[39m 1.0.5     \u001b[32mv\u001b[39m \u001b[34mtune        \u001b[39m 1.1.2\n",
      "\u001b[32mv\u001b[39m \u001b[34mmodeldata   \u001b[39m 1.2.0     \u001b[32mv\u001b[39m \u001b[34mworkflows   \u001b[39m 1.1.3\n",
      "\u001b[32mv\u001b[39m \u001b[34mparsnip     \u001b[39m 1.1.1     \u001b[32mv\u001b[39m \u001b[34mworkflowsets\u001b[39m 1.0.1\n",
      "\u001b[32mv\u001b[39m \u001b[34mpurrr       \u001b[39m 1.0.1     \u001b[32mv\u001b[39m \u001b[34myardstick   \u001b[39m 1.1.0\n",
      "\n",
      "-- \u001b[1mConflicts\u001b[22m --------------------------------------------------------------------------------- tidymodels_conflicts() --\n",
      "\u001b[31mx\u001b[39m \u001b[34mpurrr\u001b[39m::\u001b[32mdiscard()\u001b[39m masks \u001b[34mscales\u001b[39m::discard()\n",
      "\u001b[31mx\u001b[39m \u001b[34mdplyr\u001b[39m::\u001b[32mfilter()\u001b[39m  masks \u001b[34mstats\u001b[39m::filter()\n",
      "\u001b[31mx\u001b[39m \u001b[34mdplyr\u001b[39m::\u001b[32mlag()\u001b[39m     masks \u001b[34mstats\u001b[39m::lag()\n",
      "\u001b[31mx\u001b[39m \u001b[34mrecipes\u001b[39m::\u001b[32mstep()\u001b[39m  masks \u001b[34mstats\u001b[39m::step()\n",
      "\u001b[34m*\u001b[39m Dig deeper into tidy modeling with R at \u001b[32mhttps://www.tmwr.org\u001b[39m\n",
      "\n",
      "\n",
      "Attaching package: 'gridExtra'\n",
      "\n",
      "\n",
      "The following object is masked from 'package:dplyr':\n",
      "\n",
      "    combine\n",
      "\n",
      "\n",
      "\n",
      "Attaching package: 'readr'\n",
      "\n",
      "\n",
      "The following object is masked from 'package:yardstick':\n",
      "\n",
      "    spec\n",
      "\n",
      "\n",
      "The following object is masked from 'package:scales':\n",
      "\n",
      "    col_factor\n",
      "\n",
      "\n",
      "\n",
      "Attaching package: 'Hmisc'\n",
      "\n",
      "\n",
      "The following object is masked from 'package:parsnip':\n",
      "\n",
      "    translate\n",
      "\n",
      "\n",
      "The following objects are masked from 'package:dplyr':\n",
      "\n",
      "    src, summarize\n",
      "\n",
      "\n",
      "The following objects are masked from 'package:base':\n",
      "\n",
      "    format.pval, units\n",
      "\n",
      "\n",
      "corrplot 0.92 loaded\n",
      "\n"
     ]
    }
   ],
   "source": [
    "library(tidymodels)\n",
    "library(ggplot2)\n",
    "library(ggthemes)\n",
    "library(gridExtra)\n",
    "library(readr)\n",
    "library(Hmisc)\n",
    "library(corrplot)"
   ]
  },
  {
   "cell_type": "markdown",
   "id": "7d51e186",
   "metadata": {},
   "source": [
    "<div id=\"reading\">\n",
    "    <div style=\"font-size:20pt;font-weight:700;padding:20px 0;line-height:1.2\">4.2 Importing and Reading the File</div>\n",
    "    <div style=\"text-align: right;\"><a href=\"#toc\" style=\"text-decoration:none;\">↑ Table of Contents</a></div>\n",
    "</div>"
   ]
  },
  {
   "cell_type": "code",
   "execution_count": 2,
   "id": "df712e38",
   "metadata": {},
   "outputs": [],
   "source": [
    "data <- read_csv(\"hist_trans_pbi.csv\", col_types = cols(\n",
    "                    \"user_id\" = col_character(),\n",
    "                    \"first_contact\" = col_date(format = \"%m/%d/%Y\"),\n",
    "                    \"checkout_date\" = col_date(format = \"%m/%d/%Y\"),\n",
    "                    \"paid_date\" = col_date(format = \"%m/%d/%Y\"),\n",
    "                    \"channel\" = col_factor(),\n",
    "                    \"occupation\" = col_factor(),\n",
    "                    \"city\" = col_factor(),\n",
    "                    \"age\" = col_integer()\n",
    "                ))"
   ]
  },
  {
   "cell_type": "markdown",
   "id": "7363c410",
   "metadata": {},
   "source": [
    "<div id=\"datadistribution\">\n",
    "    <div style=\"font-size:20pt;font-weight:700;padding:20px 0;line-height:1.2\">4.3 Analyzing Data Distribution</div>\n",
    "    <div style=\"text-align: right;\"><a href=\"#toc\" style=\"text-decoration:none;\">↑ Table of Contents</a></div>\n",
    "</div>"
   ]
  },
  {
   "cell_type": "code",
   "execution_count": 3,
   "id": "ac280ffd",
   "metadata": {},
   "outputs": [
    {
     "data": {
      "text/html": [
       "<table class=\"dataframe\">\n",
       "<caption>A tibble: 6 × 8</caption>\n",
       "<thead>\n",
       "\t<tr><th scope=col>user_id</th><th scope=col>first_contact</th><th scope=col>checkout_date</th><th scope=col>paid_date</th><th scope=col>channel</th><th scope=col>occupation</th><th scope=col>city</th><th scope=col>age</th></tr>\n",
       "\t<tr><th scope=col>&lt;chr&gt;</th><th scope=col>&lt;date&gt;</th><th scope=col>&lt;date&gt;</th><th scope=col>&lt;date&gt;</th><th scope=col>&lt;fct&gt;</th><th scope=col>&lt;fct&gt;</th><th scope=col>&lt;fct&gt;</th><th scope=col>&lt;int&gt;</th></tr>\n",
       "</thead>\n",
       "<tbody>\n",
       "\t<tr><td>297</td><td>2022-08-07</td><td>2022-08-17</td><td>2022-08-19</td><td>referral</td><td>worker        </td><td>bandung </td><td>33</td></tr>\n",
       "\t<tr><td>197</td><td>2022-08-30</td><td>2022-09-13</td><td>2022-10-01</td><td>organic </td><td>job_seekers   </td><td>jakarta </td><td>23</td></tr>\n",
       "\t<tr><td>259</td><td>2022-08-27</td><td>2022-08-29</td><td>2022-09-10</td><td>inbound </td><td>job_seekers   </td><td>semarang</td><td>29</td></tr>\n",
       "\t<tr><td>207</td><td>2022-08-28</td><td>2022-09-16</td><td>2022-09-24</td><td>organic </td><td>worker        </td><td>semarang</td><td>22</td></tr>\n",
       "\t<tr><td>155</td><td>2022-08-31</td><td>2022-09-06</td><td>2022-09-13</td><td>referral</td><td>fresh_graduate</td><td>semarang</td><td>22</td></tr>\n",
       "\t<tr><td>131</td><td>2022-08-28</td><td>2022-08-30</td><td>2022-09-02</td><td>inbound </td><td>job_seekers   </td><td>surabaya</td><td>29</td></tr>\n",
       "</tbody>\n",
       "</table>\n"
      ],
      "text/latex": [
       "A tibble: 6 × 8\n",
       "\\begin{tabular}{llllllll}\n",
       " user\\_id & first\\_contact & checkout\\_date & paid\\_date & channel & occupation & city & age\\\\\n",
       " <chr> & <date> & <date> & <date> & <fct> & <fct> & <fct> & <int>\\\\\n",
       "\\hline\n",
       "\t 297 & 2022-08-07 & 2022-08-17 & 2022-08-19 & referral & worker         & bandung  & 33\\\\\n",
       "\t 197 & 2022-08-30 & 2022-09-13 & 2022-10-01 & organic  & job\\_seekers    & jakarta  & 23\\\\\n",
       "\t 259 & 2022-08-27 & 2022-08-29 & 2022-09-10 & inbound  & job\\_seekers    & semarang & 29\\\\\n",
       "\t 207 & 2022-08-28 & 2022-09-16 & 2022-09-24 & organic  & worker         & semarang & 22\\\\\n",
       "\t 155 & 2022-08-31 & 2022-09-06 & 2022-09-13 & referral & fresh\\_graduate & semarang & 22\\\\\n",
       "\t 131 & 2022-08-28 & 2022-08-30 & 2022-09-02 & inbound  & job\\_seekers    & surabaya & 29\\\\\n",
       "\\end{tabular}\n"
      ],
      "text/markdown": [
       "\n",
       "A tibble: 6 × 8\n",
       "\n",
       "| user_id &lt;chr&gt; | first_contact &lt;date&gt; | checkout_date &lt;date&gt; | paid_date &lt;date&gt; | channel &lt;fct&gt; | occupation &lt;fct&gt; | city &lt;fct&gt; | age &lt;int&gt; |\n",
       "|---|---|---|---|---|---|---|---|\n",
       "| 297 | 2022-08-07 | 2022-08-17 | 2022-08-19 | referral | worker         | bandung  | 33 |\n",
       "| 197 | 2022-08-30 | 2022-09-13 | 2022-10-01 | organic  | job_seekers    | jakarta  | 23 |\n",
       "| 259 | 2022-08-27 | 2022-08-29 | 2022-09-10 | inbound  | job_seekers    | semarang | 29 |\n",
       "| 207 | 2022-08-28 | 2022-09-16 | 2022-09-24 | organic  | worker         | semarang | 22 |\n",
       "| 155 | 2022-08-31 | 2022-09-06 | 2022-09-13 | referral | fresh_graduate | semarang | 22 |\n",
       "| 131 | 2022-08-28 | 2022-08-30 | 2022-09-02 | inbound  | job_seekers    | surabaya | 29 |\n",
       "\n"
      ],
      "text/plain": [
       "  user_id first_contact checkout_date paid_date  channel  occupation    \n",
       "1 297     2022-08-07    2022-08-17    2022-08-19 referral worker        \n",
       "2 197     2022-08-30    2022-09-13    2022-10-01 organic  job_seekers   \n",
       "3 259     2022-08-27    2022-08-29    2022-09-10 inbound  job_seekers   \n",
       "4 207     2022-08-28    2022-09-16    2022-09-24 organic  worker        \n",
       "5 155     2022-08-31    2022-09-06    2022-09-13 referral fresh_graduate\n",
       "6 131     2022-08-28    2022-08-30    2022-09-02 inbound  job_seekers   \n",
       "  city     age\n",
       "1 bandung  33 \n",
       "2 jakarta  23 \n",
       "3 semarang 29 \n",
       "4 semarang 22 \n",
       "5 semarang 22 \n",
       "6 surabaya 29 "
      ]
     },
     "metadata": {},
     "output_type": "display_data"
    }
   ],
   "source": [
    "head(data)"
   ]
  },
  {
   "cell_type": "code",
   "execution_count": 4,
   "id": "e5d7b784",
   "metadata": {},
   "outputs": [
    {
     "data": {
      "text/html": [
       "<style>\n",
       ".list-inline {list-style: none; margin:0; padding: 0}\n",
       ".list-inline>li {display: inline-block}\n",
       ".list-inline>li:not(:last-child)::after {content: \"\\00b7\"; padding: 0 .5ex}\n",
       "</style>\n",
       "<ol class=list-inline><li>100</li><li>8</li></ol>\n"
      ],
      "text/latex": [
       "\\begin{enumerate*}\n",
       "\\item 100\n",
       "\\item 8\n",
       "\\end{enumerate*}\n"
      ],
      "text/markdown": [
       "1. 100\n",
       "2. 8\n",
       "\n",
       "\n"
      ],
      "text/plain": [
       "[1] 100   8"
      ]
     },
     "metadata": {},
     "output_type": "display_data"
    }
   ],
   "source": [
    "dim(data)"
   ]
  },
  {
   "cell_type": "code",
   "execution_count": 5,
   "id": "b99afe8b",
   "metadata": {},
   "outputs": [
    {
     "data": {
      "text/plain": [
       "   user_id          first_contact        checkout_date       \n",
       " Length:100         Min.   :2022-08-01   Min.   :2022-08-04  \n",
       " Class :character   1st Qu.:2022-08-08   1st Qu.:2022-08-18  \n",
       " Mode  :character   Median :2022-08-15   Median :2022-08-25  \n",
       "                    Mean   :2022-08-15   Mean   :2022-08-25  \n",
       "                    3rd Qu.:2022-08-24   3rd Qu.:2022-09-04  \n",
       "                    Max.   :2022-08-31   Max.   :2022-09-16  \n",
       "   paid_date                      channel            occupation       city   \n",
       " Min.   :2022-08-09   referral        :23   worker        :22   bandung :27  \n",
       " 1st Qu.:2022-08-25   organic         :22   job_seekers   :25   jakarta :22  \n",
       " Median :2022-09-04   inbound         :28   fresh_graduate:31   semarang:22  \n",
       " Mean   :2022-09-04   digital_festival:27   student       :22   surabaya:29  \n",
       " 3rd Qu.:2022-09-15                                                          \n",
       " Max.   :2022-10-06                                                          \n",
       "      age       \n",
       " Min.   :18.00  \n",
       " 1st Qu.:22.00  \n",
       " Median :24.00  \n",
       " Mean   :24.16  \n",
       " 3rd Qu.:26.00  \n",
       " Max.   :34.00  "
      ]
     },
     "metadata": {},
     "output_type": "display_data"
    }
   ],
   "source": [
    "summary(data)"
   ]
  },
  {
   "cell_type": "code",
   "execution_count": 6,
   "id": "4b84df0f",
   "metadata": {},
   "outputs": [
    {
     "data": {
      "text/html": [
       "<style>\n",
       ".dl-inline {width: auto; margin:0; padding: 0}\n",
       ".dl-inline>dt, .dl-inline>dd {float: none; width: auto; display: inline-block}\n",
       ".dl-inline>dt::after {content: \":\\0020\"; padding-right: .5ex}\n",
       ".dl-inline>dt:not(:first-of-type) {padding-left: .5ex}\n",
       "</style><dl class=dl-inline><dt>organic</dt><dd>22</dd><dt>referral</dt><dd>23</dd><dt>digital_festival</dt><dd>27</dd><dt>inbound</dt><dd>28</dd></dl>\n"
      ],
      "text/latex": [
       "\\begin{description*}\n",
       "\\item[organic] 22\n",
       "\\item[referral] 23\n",
       "\\item[digital\\textbackslash{}\\_festival] 27\n",
       "\\item[inbound] 28\n",
       "\\end{description*}\n"
      ],
      "text/markdown": [
       "organic\n",
       ":   22referral\n",
       ":   23digital_festival\n",
       ":   27inbound\n",
       ":   28\n",
       "\n"
      ],
      "text/plain": [
       "         organic         referral digital_festival          inbound \n",
       "              22               23               27               28 "
      ]
     },
     "metadata": {},
     "output_type": "display_data"
    }
   ],
   "source": [
    "sort(summary(data$channel))"
   ]
  },
  {
   "cell_type": "code",
   "execution_count": 7,
   "id": "c7fafadf",
   "metadata": {},
   "outputs": [
    {
     "data": {
      "text/html": [
       "<style>\n",
       ".dl-inline {width: auto; margin:0; padding: 0}\n",
       ".dl-inline>dt, .dl-inline>dd {float: none; width: auto; display: inline-block}\n",
       ".dl-inline>dt::after {content: \":\\0020\"; padding-right: .5ex}\n",
       ".dl-inline>dt:not(:first-of-type) {padding-left: .5ex}\n",
       "</style><dl class=dl-inline><dt>worker</dt><dd>22</dd><dt>student</dt><dd>22</dd><dt>job_seekers</dt><dd>25</dd><dt>fresh_graduate</dt><dd>31</dd></dl>\n"
      ],
      "text/latex": [
       "\\begin{description*}\n",
       "\\item[worker] 22\n",
       "\\item[student] 22\n",
       "\\item[job\\textbackslash{}\\_seekers] 25\n",
       "\\item[fresh\\textbackslash{}\\_graduate] 31\n",
       "\\end{description*}\n"
      ],
      "text/markdown": [
       "worker\n",
       ":   22student\n",
       ":   22job_seekers\n",
       ":   25fresh_graduate\n",
       ":   31\n",
       "\n"
      ],
      "text/plain": [
       "        worker        student    job_seekers fresh_graduate \n",
       "            22             22             25             31 "
      ]
     },
     "metadata": {},
     "output_type": "display_data"
    }
   ],
   "source": [
    "sort(summary(data$occupation))"
   ]
  },
  {
   "cell_type": "code",
   "execution_count": 8,
   "id": "951614bf",
   "metadata": {},
   "outputs": [
    {
     "data": {
      "text/html": [
       "<style>\n",
       ".dl-inline {width: auto; margin:0; padding: 0}\n",
       ".dl-inline>dt, .dl-inline>dd {float: none; width: auto; display: inline-block}\n",
       ".dl-inline>dt::after {content: \":\\0020\"; padding-right: .5ex}\n",
       ".dl-inline>dt:not(:first-of-type) {padding-left: .5ex}\n",
       "</style><dl class=dl-inline><dt>jakarta</dt><dd>22</dd><dt>semarang</dt><dd>22</dd><dt>bandung</dt><dd>27</dd><dt>surabaya</dt><dd>29</dd></dl>\n"
      ],
      "text/latex": [
       "\\begin{description*}\n",
       "\\item[jakarta] 22\n",
       "\\item[semarang] 22\n",
       "\\item[bandung] 27\n",
       "\\item[surabaya] 29\n",
       "\\end{description*}\n"
      ],
      "text/markdown": [
       "jakarta\n",
       ":   22semarang\n",
       ":   22bandung\n",
       ":   27surabaya\n",
       ":   29\n",
       "\n"
      ],
      "text/plain": [
       " jakarta semarang  bandung surabaya \n",
       "      22       22       27       29 "
      ]
     },
     "metadata": {},
     "output_type": "display_data"
    }
   ],
   "source": [
    "sort(summary(data$city ))"
   ]
  },
  {
   "cell_type": "markdown",
   "id": "c0635f22",
   "metadata": {},
   "source": [
    "<div id=\"correctmispelled\">\n",
    "    <div style=\"font-size:20pt;font-weight:700;padding:20px 0;line-height:1.2\">4.4 Correcting Misspelled</div>\n",
    "    <div style=\"text-align: right;\"><a href=\"#toc\" style=\"text-decoration:none;\">↑ Table of Contents</a></div>\n",
    "</div>"
   ]
  },
  {
   "cell_type": "code",
   "execution_count": 9,
   "id": "676a5751",
   "metadata": {},
   "outputs": [],
   "source": [
    "options(repr.matrix.max.rows = Inf)"
   ]
  },
  {
   "cell_type": "code",
   "execution_count": 10,
   "id": "ec9a512d",
   "metadata": {
    "scrolled": false
   },
   "outputs": [
    {
     "data": {
      "text/html": [
       "<table class=\"dataframe\">\n",
       "<caption>A spec_tbl_df: 100 × 8</caption>\n",
       "<thead>\n",
       "\t<tr><th scope=col>user_id</th><th scope=col>first_contact</th><th scope=col>checkout_date</th><th scope=col>paid_date</th><th scope=col>channel</th><th scope=col>occupation</th><th scope=col>city</th><th scope=col>age</th></tr>\n",
       "\t<tr><th scope=col>&lt;chr&gt;</th><th scope=col>&lt;date&gt;</th><th scope=col>&lt;date&gt;</th><th scope=col>&lt;date&gt;</th><th scope=col>&lt;fct&gt;</th><th scope=col>&lt;fct&gt;</th><th scope=col>&lt;fct&gt;</th><th scope=col>&lt;int&gt;</th></tr>\n",
       "</thead>\n",
       "<tbody>\n",
       "\t<tr><td>297</td><td>2022-08-07</td><td>2022-08-17</td><td>2022-08-19</td><td>referral        </td><td>worker        </td><td>bandung </td><td>33</td></tr>\n",
       "\t<tr><td>197</td><td>2022-08-30</td><td>2022-09-13</td><td>2022-10-01</td><td>organic         </td><td>job_seekers   </td><td>jakarta </td><td>23</td></tr>\n",
       "\t<tr><td>259</td><td>2022-08-27</td><td>2022-08-29</td><td>2022-09-10</td><td>inbound         </td><td>job_seekers   </td><td>semarang</td><td>29</td></tr>\n",
       "\t<tr><td>207</td><td>2022-08-28</td><td>2022-09-16</td><td>2022-09-24</td><td>organic         </td><td>worker        </td><td>semarang</td><td>22</td></tr>\n",
       "\t<tr><td>155</td><td>2022-08-31</td><td>2022-09-06</td><td>2022-09-13</td><td>referral        </td><td>fresh_graduate</td><td>semarang</td><td>22</td></tr>\n",
       "\t<tr><td>131</td><td>2022-08-28</td><td>2022-08-30</td><td>2022-09-02</td><td>inbound         </td><td>job_seekers   </td><td>surabaya</td><td>29</td></tr>\n",
       "\t<tr><td>254</td><td>2022-08-15</td><td>2022-09-04</td><td>2022-09-17</td><td>digital_festival</td><td>job_seekers   </td><td>semarang</td><td>26</td></tr>\n",
       "\t<tr><td>244</td><td>2022-08-13</td><td>2022-08-16</td><td>2022-09-05</td><td>digital_festival</td><td>fresh_graduate</td><td>jakarta </td><td>25</td></tr>\n",
       "\t<tr><td>141</td><td>2022-08-01</td><td>2022-08-04</td><td>2022-08-14</td><td>organic         </td><td>job_seekers   </td><td>surabaya</td><td>25</td></tr>\n",
       "\t<tr><td>244</td><td>2022-08-07</td><td>2022-08-15</td><td>2022-08-23</td><td>digital_festival</td><td>student       </td><td>bandung </td><td>19</td></tr>\n",
       "\t<tr><td>245</td><td>2022-08-09</td><td>2022-08-16</td><td>2022-08-22</td><td>referral        </td><td>fresh_graduate</td><td>surabaya</td><td>22</td></tr>\n",
       "\t<tr><td>283</td><td>2022-08-13</td><td>2022-08-18</td><td>2022-08-28</td><td>organic         </td><td>job_seekers   </td><td>surabaya</td><td>26</td></tr>\n",
       "\t<tr><td>280</td><td>2022-08-07</td><td>2022-08-12</td><td>2022-08-23</td><td>organic         </td><td>fresh_graduate</td><td>surabaya</td><td>25</td></tr>\n",
       "\t<tr><td>209</td><td>2022-08-17</td><td>2022-09-04</td><td>2022-09-21</td><td>inbound         </td><td>job_seekers   </td><td>surabaya</td><td>29</td></tr>\n",
       "\t<tr><td>236</td><td>2022-08-27</td><td>2022-09-04</td><td>2022-09-20</td><td>organic         </td><td>fresh_graduate</td><td>semarang</td><td>23</td></tr>\n",
       "\t<tr><td>199</td><td>2022-08-27</td><td>2022-09-06</td><td>2022-09-10</td><td>digital_festival</td><td>fresh_graduate</td><td>bandung </td><td>23</td></tr>\n",
       "\t<tr><td>279</td><td>2022-08-21</td><td>2022-09-09</td><td>2022-09-15</td><td>referral        </td><td>student       </td><td>surabaya</td><td>22</td></tr>\n",
       "\t<tr><td>125</td><td>2022-08-19</td><td>2022-08-29</td><td>2022-09-09</td><td>digital_festival</td><td>student       </td><td>bandung </td><td>19</td></tr>\n",
       "\t<tr><td>125</td><td>2022-08-12</td><td>2022-08-25</td><td>2022-09-12</td><td>referral        </td><td>fresh_graduate</td><td>bandung </td><td>24</td></tr>\n",
       "\t<tr><td>129</td><td>2022-08-26</td><td>2022-08-30</td><td>2022-09-08</td><td>digital_festival</td><td>student       </td><td>surabaya</td><td>20</td></tr>\n",
       "\t<tr><td>219</td><td>2022-08-11</td><td>2022-08-16</td><td>2022-08-16</td><td>inbound         </td><td>job_seekers   </td><td>surabaya</td><td>26</td></tr>\n",
       "\t<tr><td>262</td><td>2022-08-07</td><td>2022-08-13</td><td>2022-08-30</td><td>digital_festival</td><td>job_seekers   </td><td>bandung </td><td>24</td></tr>\n",
       "\t<tr><td>282</td><td>2022-08-16</td><td>2022-08-25</td><td>2022-08-25</td><td>digital_festival</td><td>job_seekers   </td><td>semarang</td><td>26</td></tr>\n",
       "\t<tr><td>119</td><td>2022-08-07</td><td>2022-08-25</td><td>2022-08-26</td><td>inbound         </td><td>fresh_graduate</td><td>jakarta </td><td>23</td></tr>\n",
       "\t<tr><td>135</td><td>2022-08-17</td><td>2022-09-05</td><td>2022-09-20</td><td>organic         </td><td>student       </td><td>semarang</td><td>20</td></tr>\n",
       "\t<tr><td>122</td><td>2022-08-28</td><td>2022-09-16</td><td>2022-10-05</td><td>inbound         </td><td>fresh_graduate</td><td>semarang</td><td>23</td></tr>\n",
       "\t<tr><td>299</td><td>2022-08-05</td><td>2022-08-18</td><td>2022-08-28</td><td>digital_festival</td><td>job_seekers   </td><td>jakarta </td><td>30</td></tr>\n",
       "\t<tr><td>228</td><td>2022-08-18</td><td>2022-08-27</td><td>2022-09-06</td><td>referral        </td><td>fresh_graduate</td><td>surabaya</td><td>25</td></tr>\n",
       "\t<tr><td>115</td><td>2022-08-22</td><td>2022-08-25</td><td>2022-08-26</td><td>organic         </td><td>worker        </td><td>surabaya</td><td>29</td></tr>\n",
       "\t<tr><td>124</td><td>2022-08-28</td><td>2022-09-13</td><td>2022-09-16</td><td>inbound         </td><td>student       </td><td>jakarta </td><td>22</td></tr>\n",
       "\t<tr><td>113</td><td>2022-08-04</td><td>2022-08-13</td><td>2022-08-31</td><td>digital_festival</td><td>worker        </td><td>bandung </td><td>27</td></tr>\n",
       "\t<tr><td>177</td><td>2022-08-15</td><td>2022-09-04</td><td>2022-09-22</td><td>digital_festival</td><td>job_seekers   </td><td>jakarta </td><td>25</td></tr>\n",
       "\t<tr><td>136</td><td>2022-08-21</td><td>2022-08-22</td><td>2022-08-22</td><td>digital_festival</td><td>job_seekers   </td><td>surabaya</td><td>22</td></tr>\n",
       "\t<tr><td>210</td><td>2022-08-11</td><td>2022-08-19</td><td>2022-08-23</td><td>inbound         </td><td>student       </td><td>bandung </td><td>21</td></tr>\n",
       "\t<tr><td>216</td><td>2022-08-16</td><td>2022-08-20</td><td>2022-08-28</td><td>inbound         </td><td>fresh_graduate</td><td>jakarta </td><td>24</td></tr>\n",
       "\t<tr><td>184</td><td>2022-08-29</td><td>2022-09-05</td><td>2022-09-24</td><td>referral        </td><td>fresh_graduate</td><td>surabaya</td><td>22</td></tr>\n",
       "\t<tr><td>170</td><td>2022-08-19</td><td>2022-09-05</td><td>2022-09-20</td><td>referral        </td><td>student       </td><td>bandung </td><td>22</td></tr>\n",
       "\t<tr><td>150</td><td>2022-08-27</td><td>2022-09-06</td><td>2022-09-16</td><td>inbound         </td><td>fresh_graduate</td><td>bandung </td><td>23</td></tr>\n",
       "\t<tr><td>278</td><td>2022-08-22</td><td>2022-08-27</td><td>2022-09-11</td><td>organic         </td><td>student       </td><td>bandung </td><td>22</td></tr>\n",
       "\t<tr><td>232</td><td>2022-08-07</td><td>2022-08-14</td><td>2022-08-14</td><td>inbound         </td><td>worker        </td><td>bandung </td><td>28</td></tr>\n",
       "\t<tr><td>280</td><td>2022-08-30</td><td>2022-09-15</td><td>2022-09-23</td><td>inbound         </td><td>worker        </td><td>jakarta </td><td>22</td></tr>\n",
       "\t<tr><td>200</td><td>2022-08-23</td><td>2022-08-27</td><td>2022-09-10</td><td>digital_festival</td><td>job_seekers   </td><td>bandung </td><td>22</td></tr>\n",
       "\t<tr><td>244</td><td>2022-08-17</td><td>2022-09-02</td><td>2022-09-12</td><td>referral        </td><td>worker        </td><td>semarang</td><td>22</td></tr>\n",
       "\t<tr><td>236</td><td>2022-08-24</td><td>2022-08-25</td><td>2022-09-11</td><td>referral        </td><td>job_seekers   </td><td>semarang</td><td>27</td></tr>\n",
       "\t<tr><td>270</td><td>2022-08-06</td><td>2022-08-08</td><td>2022-08-21</td><td>referral        </td><td>student       </td><td>jakarta </td><td>19</td></tr>\n",
       "\t<tr><td>264</td><td>2022-08-12</td><td>2022-08-16</td><td>2022-08-21</td><td>referral        </td><td>job_seekers   </td><td>surabaya</td><td>24</td></tr>\n",
       "\t<tr><td>297</td><td>2022-08-17</td><td>2022-09-06</td><td>2022-09-09</td><td>organic         </td><td>fresh_graduate</td><td>surabaya</td><td>23</td></tr>\n",
       "\t<tr><td>245</td><td>2022-08-20</td><td>2022-08-21</td><td>2022-09-04</td><td>digital_festival</td><td>job_seekers   </td><td>surabaya</td><td>24</td></tr>\n",
       "\t<tr><td>233</td><td>2022-08-06</td><td>2022-08-15</td><td>2022-08-30</td><td>referral        </td><td>fresh_graduate</td><td>bandung </td><td>24</td></tr>\n",
       "\t<tr><td>296</td><td>2022-08-24</td><td>2022-09-02</td><td>2022-09-19</td><td>inbound         </td><td>fresh_graduate</td><td>surabaya</td><td>25</td></tr>\n",
       "\t<tr><td>164</td><td>2022-08-29</td><td>2022-09-11</td><td>2022-09-26</td><td>organic         </td><td>fresh_graduate</td><td>surabaya</td><td>25</td></tr>\n",
       "\t<tr><td>267</td><td>2022-08-31</td><td>2022-09-12</td><td>2022-09-17</td><td>inbound         </td><td>job_seekers   </td><td>surabaya</td><td>26</td></tr>\n",
       "\t<tr><td>112</td><td>2022-08-08</td><td>2022-08-15</td><td>2022-08-26</td><td>inbound         </td><td>fresh_graduate</td><td>jakarta </td><td>24</td></tr>\n",
       "\t<tr><td>212</td><td>2022-08-15</td><td>2022-08-24</td><td>2022-08-26</td><td>digital_festival</td><td>student       </td><td>jakarta </td><td>18</td></tr>\n",
       "\t<tr><td>201</td><td>2022-08-21</td><td>2022-08-28</td><td>2022-09-01</td><td>inbound         </td><td>fresh_graduate</td><td>surabaya</td><td>22</td></tr>\n",
       "\t<tr><td>261</td><td>2022-08-08</td><td>2022-08-26</td><td>2022-09-09</td><td>referral        </td><td>worker        </td><td>semarang</td><td>32</td></tr>\n",
       "\t<tr><td>168</td><td>2022-08-17</td><td>2022-08-19</td><td>2022-09-05</td><td>digital_festival</td><td>fresh_graduate</td><td>jakarta </td><td>24</td></tr>\n",
       "\t<tr><td>223</td><td>2022-08-07</td><td>2022-08-13</td><td>2022-08-31</td><td>inbound         </td><td>student       </td><td>jakarta </td><td>18</td></tr>\n",
       "\t<tr><td>261</td><td>2022-08-27</td><td>2022-09-11</td><td>2022-09-29</td><td>inbound         </td><td>fresh_graduate</td><td>surabaya</td><td>25</td></tr>\n",
       "\t<tr><td>171</td><td>2022-08-08</td><td>2022-08-14</td><td>2022-08-18</td><td>digital_festival</td><td>worker        </td><td>bandung </td><td>26</td></tr>\n",
       "\t<tr><td>154</td><td>2022-08-10</td><td>2022-08-20</td><td>2022-08-31</td><td>inbound         </td><td>student       </td><td>bandung </td><td>21</td></tr>\n",
       "\t<tr><td>120</td><td>2022-08-26</td><td>2022-09-16</td><td>2022-09-23</td><td>inbound         </td><td>fresh_graduate</td><td>semarang</td><td>24</td></tr>\n",
       "\t<tr><td>126</td><td>2022-08-08</td><td>2022-08-23</td><td>2022-08-25</td><td>organic         </td><td>worker        </td><td>semarang</td><td>22</td></tr>\n",
       "\t<tr><td>262</td><td>2022-08-19</td><td>2022-09-01</td><td>2022-09-14</td><td>digital_festival</td><td>job_seekers   </td><td>jakarta </td><td>22</td></tr>\n",
       "\t<tr><td>159</td><td>2022-08-05</td><td>2022-08-06</td><td>2022-08-09</td><td>referral        </td><td>student       </td><td>surabaya</td><td>22</td></tr>\n",
       "\t<tr><td>133</td><td>2022-08-11</td><td>2022-08-18</td><td>2022-08-27</td><td>organic         </td><td>student       </td><td>bandung </td><td>20</td></tr>\n",
       "\t<tr><td>207</td><td>2022-08-19</td><td>2022-08-19</td><td>2022-08-20</td><td>inbound         </td><td>worker        </td><td>jakarta </td><td>25</td></tr>\n",
       "\t<tr><td>212</td><td>2022-08-05</td><td>2022-08-20</td><td>2022-08-25</td><td>referral        </td><td>worker        </td><td>jakarta </td><td>29</td></tr>\n",
       "\t<tr><td>139</td><td>2022-08-10</td><td>2022-08-31</td><td>2022-09-21</td><td>organic         </td><td>fresh_graduate</td><td>bandung </td><td>22</td></tr>\n",
       "\t<tr><td>262</td><td>2022-08-01</td><td>2022-08-15</td><td>2022-08-25</td><td>digital_festival</td><td>worker        </td><td>bandung </td><td>23</td></tr>\n",
       "\t<tr><td>107</td><td>2022-08-12</td><td>2022-08-19</td><td>2022-09-06</td><td>organic         </td><td>student       </td><td>surabaya</td><td>20</td></tr>\n",
       "\t<tr><td>111</td><td>2022-08-10</td><td>2022-08-19</td><td>2022-08-27</td><td>referral        </td><td>student       </td><td>bandung </td><td>20</td></tr>\n",
       "\t<tr><td>260</td><td>2022-08-23</td><td>2022-09-11</td><td>2022-09-30</td><td>inbound         </td><td>worker        </td><td>jakarta </td><td>27</td></tr>\n",
       "\t<tr><td>140</td><td>2022-08-17</td><td>2022-09-04</td><td>2022-09-06</td><td>inbound         </td><td>worker        </td><td>jakarta </td><td>31</td></tr>\n",
       "\t<tr><td>214</td><td>2022-08-25</td><td>2022-09-12</td><td>2022-09-28</td><td>digital_festival</td><td>fresh_graduate</td><td>semarang</td><td>22</td></tr>\n",
       "\t<tr><td>104</td><td>2022-08-02</td><td>2022-08-06</td><td>2022-08-10</td><td>digital_festival</td><td>student       </td><td>surabaya</td><td>18</td></tr>\n",
       "\t<tr><td>255</td><td>2022-08-03</td><td>2022-08-10</td><td>2022-08-16</td><td>referral        </td><td>student       </td><td>bandung </td><td>18</td></tr>\n",
       "\t<tr><td>234</td><td>2022-08-16</td><td>2022-08-17</td><td>2022-08-21</td><td>organic         </td><td>job_seekers   </td><td>semarang</td><td>29</td></tr>\n",
       "\t<tr><td>257</td><td>2022-08-31</td><td>2022-09-16</td><td>2022-10-06</td><td>inbound         </td><td>student       </td><td>jakarta </td><td>19</td></tr>\n",
       "\t<tr><td>220</td><td>2022-08-06</td><td>2022-08-21</td><td>2022-08-31</td><td>digital_festival</td><td>worker        </td><td>semarang</td><td>33</td></tr>\n",
       "\t<tr><td>197</td><td>2022-08-06</td><td>2022-08-23</td><td>2022-08-25</td><td>digital_festival</td><td>worker        </td><td>jakarta </td><td>28</td></tr>\n",
       "\t<tr><td>188</td><td>2022-08-17</td><td>2022-09-07</td><td>2022-09-10</td><td>referral        </td><td>fresh_graduate</td><td>bandung </td><td>25</td></tr>\n",
       "\t<tr><td>150</td><td>2022-08-09</td><td>2022-08-27</td><td>2022-09-03</td><td>digital_festival</td><td>fresh_graduate</td><td>surabaya</td><td>23</td></tr>\n",
       "\t<tr><td>182</td><td>2022-08-30</td><td>2022-09-01</td><td>2022-09-17</td><td>referral        </td><td>fresh_graduate</td><td>semarang</td><td>23</td></tr>\n",
       "\t<tr><td>169</td><td>2022-08-24</td><td>2022-09-05</td><td>2022-09-14</td><td>inbound         </td><td>worker        </td><td>jakarta </td><td>25</td></tr>\n",
       "\t<tr><td>157</td><td>2022-08-24</td><td>2022-09-02</td><td>2022-09-10</td><td>referral        </td><td>student       </td><td>semarang</td><td>22</td></tr>\n",
       "\t<tr><td>165</td><td>2022-08-09</td><td>2022-08-18</td><td>2022-09-03</td><td>digital_festival</td><td>fresh_graduate</td><td>bandung </td><td>22</td></tr>\n",
       "\t<tr><td>221</td><td>2022-08-27</td><td>2022-08-28</td><td>2022-09-16</td><td>inbound         </td><td>worker        </td><td>semarang</td><td>24</td></tr>\n",
       "\t<tr><td>282</td><td>2022-08-11</td><td>2022-08-28</td><td>2022-08-28</td><td>organic         </td><td>job_seekers   </td><td>semarang</td><td>22</td></tr>\n",
       "\t<tr><td>209</td><td>2022-08-01</td><td>2022-08-18</td><td>2022-08-30</td><td>organic         </td><td>worker        </td><td>surabaya</td><td>30</td></tr>\n",
       "\t<tr><td>193</td><td>2022-08-05</td><td>2022-08-11</td><td>2022-08-16</td><td>digital_festival</td><td>worker        </td><td>surabaya</td><td>29</td></tr>\n",
       "\t<tr><td>272</td><td>2022-08-01</td><td>2022-08-07</td><td>2022-08-09</td><td>organic         </td><td>fresh_graduate</td><td>bandung </td><td>25</td></tr>\n",
       "\t<tr><td>280</td><td>2022-08-14</td><td>2022-08-18</td><td>2022-09-03</td><td>inbound         </td><td>job_seekers   </td><td>jakarta </td><td>30</td></tr>\n",
       "\t<tr><td>193</td><td>2022-08-18</td><td>2022-08-25</td><td>2022-09-05</td><td>organic         </td><td>student       </td><td>bandung </td><td>21</td></tr>\n",
       "\t<tr><td>203</td><td>2022-08-09</td><td>2022-08-12</td><td>2022-08-12</td><td>referral        </td><td>job_seekers   </td><td>semarang</td><td>28</td></tr>\n",
       "\t<tr><td>200</td><td>2022-08-10</td><td>2022-08-27</td><td>2022-09-14</td><td>inbound         </td><td>job_seekers   </td><td>surabaya</td><td>23</td></tr>\n",
       "\t<tr><td>189</td><td>2022-08-13</td><td>2022-08-19</td><td>2022-08-31</td><td>organic         </td><td>job_seekers   </td><td>bandung </td><td>26</td></tr>\n",
       "\t<tr><td>173</td><td>2022-08-07</td><td>2022-08-21</td><td>2022-08-28</td><td>organic         </td><td>fresh_graduate</td><td>semarang</td><td>24</td></tr>\n",
       "\t<tr><td>218</td><td>2022-08-14</td><td>2022-08-23</td><td>2022-09-09</td><td>digital_festival</td><td>worker        </td><td>surabaya</td><td>34</td></tr>\n",
       "\t<tr><td>131</td><td>2022-08-29</td><td>2022-09-02</td><td>2022-09-16</td><td>referral        </td><td>fresh_graduate</td><td>bandung </td><td>23</td></tr>\n",
       "</tbody>\n",
       "</table>\n"
      ],
      "text/latex": [
       "A spec\\_tbl\\_df: 100 × 8\n",
       "\\begin{tabular}{llllllll}\n",
       " user\\_id & first\\_contact & checkout\\_date & paid\\_date & channel & occupation & city & age\\\\\n",
       " <chr> & <date> & <date> & <date> & <fct> & <fct> & <fct> & <int>\\\\\n",
       "\\hline\n",
       "\t 297 & 2022-08-07 & 2022-08-17 & 2022-08-19 & referral         & worker         & bandung  & 33\\\\\n",
       "\t 197 & 2022-08-30 & 2022-09-13 & 2022-10-01 & organic          & job\\_seekers    & jakarta  & 23\\\\\n",
       "\t 259 & 2022-08-27 & 2022-08-29 & 2022-09-10 & inbound          & job\\_seekers    & semarang & 29\\\\\n",
       "\t 207 & 2022-08-28 & 2022-09-16 & 2022-09-24 & organic          & worker         & semarang & 22\\\\\n",
       "\t 155 & 2022-08-31 & 2022-09-06 & 2022-09-13 & referral         & fresh\\_graduate & semarang & 22\\\\\n",
       "\t 131 & 2022-08-28 & 2022-08-30 & 2022-09-02 & inbound          & job\\_seekers    & surabaya & 29\\\\\n",
       "\t 254 & 2022-08-15 & 2022-09-04 & 2022-09-17 & digital\\_festival & job\\_seekers    & semarang & 26\\\\\n",
       "\t 244 & 2022-08-13 & 2022-08-16 & 2022-09-05 & digital\\_festival & fresh\\_graduate & jakarta  & 25\\\\\n",
       "\t 141 & 2022-08-01 & 2022-08-04 & 2022-08-14 & organic          & job\\_seekers    & surabaya & 25\\\\\n",
       "\t 244 & 2022-08-07 & 2022-08-15 & 2022-08-23 & digital\\_festival & student        & bandung  & 19\\\\\n",
       "\t 245 & 2022-08-09 & 2022-08-16 & 2022-08-22 & referral         & fresh\\_graduate & surabaya & 22\\\\\n",
       "\t 283 & 2022-08-13 & 2022-08-18 & 2022-08-28 & organic          & job\\_seekers    & surabaya & 26\\\\\n",
       "\t 280 & 2022-08-07 & 2022-08-12 & 2022-08-23 & organic          & fresh\\_graduate & surabaya & 25\\\\\n",
       "\t 209 & 2022-08-17 & 2022-09-04 & 2022-09-21 & inbound          & job\\_seekers    & surabaya & 29\\\\\n",
       "\t 236 & 2022-08-27 & 2022-09-04 & 2022-09-20 & organic          & fresh\\_graduate & semarang & 23\\\\\n",
       "\t 199 & 2022-08-27 & 2022-09-06 & 2022-09-10 & digital\\_festival & fresh\\_graduate & bandung  & 23\\\\\n",
       "\t 279 & 2022-08-21 & 2022-09-09 & 2022-09-15 & referral         & student        & surabaya & 22\\\\\n",
       "\t 125 & 2022-08-19 & 2022-08-29 & 2022-09-09 & digital\\_festival & student        & bandung  & 19\\\\\n",
       "\t 125 & 2022-08-12 & 2022-08-25 & 2022-09-12 & referral         & fresh\\_graduate & bandung  & 24\\\\\n",
       "\t 129 & 2022-08-26 & 2022-08-30 & 2022-09-08 & digital\\_festival & student        & surabaya & 20\\\\\n",
       "\t 219 & 2022-08-11 & 2022-08-16 & 2022-08-16 & inbound          & job\\_seekers    & surabaya & 26\\\\\n",
       "\t 262 & 2022-08-07 & 2022-08-13 & 2022-08-30 & digital\\_festival & job\\_seekers    & bandung  & 24\\\\\n",
       "\t 282 & 2022-08-16 & 2022-08-25 & 2022-08-25 & digital\\_festival & job\\_seekers    & semarang & 26\\\\\n",
       "\t 119 & 2022-08-07 & 2022-08-25 & 2022-08-26 & inbound          & fresh\\_graduate & jakarta  & 23\\\\\n",
       "\t 135 & 2022-08-17 & 2022-09-05 & 2022-09-20 & organic          & student        & semarang & 20\\\\\n",
       "\t 122 & 2022-08-28 & 2022-09-16 & 2022-10-05 & inbound          & fresh\\_graduate & semarang & 23\\\\\n",
       "\t 299 & 2022-08-05 & 2022-08-18 & 2022-08-28 & digital\\_festival & job\\_seekers    & jakarta  & 30\\\\\n",
       "\t 228 & 2022-08-18 & 2022-08-27 & 2022-09-06 & referral         & fresh\\_graduate & surabaya & 25\\\\\n",
       "\t 115 & 2022-08-22 & 2022-08-25 & 2022-08-26 & organic          & worker         & surabaya & 29\\\\\n",
       "\t 124 & 2022-08-28 & 2022-09-13 & 2022-09-16 & inbound          & student        & jakarta  & 22\\\\\n",
       "\t 113 & 2022-08-04 & 2022-08-13 & 2022-08-31 & digital\\_festival & worker         & bandung  & 27\\\\\n",
       "\t 177 & 2022-08-15 & 2022-09-04 & 2022-09-22 & digital\\_festival & job\\_seekers    & jakarta  & 25\\\\\n",
       "\t 136 & 2022-08-21 & 2022-08-22 & 2022-08-22 & digital\\_festival & job\\_seekers    & surabaya & 22\\\\\n",
       "\t 210 & 2022-08-11 & 2022-08-19 & 2022-08-23 & inbound          & student        & bandung  & 21\\\\\n",
       "\t 216 & 2022-08-16 & 2022-08-20 & 2022-08-28 & inbound          & fresh\\_graduate & jakarta  & 24\\\\\n",
       "\t 184 & 2022-08-29 & 2022-09-05 & 2022-09-24 & referral         & fresh\\_graduate & surabaya & 22\\\\\n",
       "\t 170 & 2022-08-19 & 2022-09-05 & 2022-09-20 & referral         & student        & bandung  & 22\\\\\n",
       "\t 150 & 2022-08-27 & 2022-09-06 & 2022-09-16 & inbound          & fresh\\_graduate & bandung  & 23\\\\\n",
       "\t 278 & 2022-08-22 & 2022-08-27 & 2022-09-11 & organic          & student        & bandung  & 22\\\\\n",
       "\t 232 & 2022-08-07 & 2022-08-14 & 2022-08-14 & inbound          & worker         & bandung  & 28\\\\\n",
       "\t 280 & 2022-08-30 & 2022-09-15 & 2022-09-23 & inbound          & worker         & jakarta  & 22\\\\\n",
       "\t 200 & 2022-08-23 & 2022-08-27 & 2022-09-10 & digital\\_festival & job\\_seekers    & bandung  & 22\\\\\n",
       "\t 244 & 2022-08-17 & 2022-09-02 & 2022-09-12 & referral         & worker         & semarang & 22\\\\\n",
       "\t 236 & 2022-08-24 & 2022-08-25 & 2022-09-11 & referral         & job\\_seekers    & semarang & 27\\\\\n",
       "\t 270 & 2022-08-06 & 2022-08-08 & 2022-08-21 & referral         & student        & jakarta  & 19\\\\\n",
       "\t 264 & 2022-08-12 & 2022-08-16 & 2022-08-21 & referral         & job\\_seekers    & surabaya & 24\\\\\n",
       "\t 297 & 2022-08-17 & 2022-09-06 & 2022-09-09 & organic          & fresh\\_graduate & surabaya & 23\\\\\n",
       "\t 245 & 2022-08-20 & 2022-08-21 & 2022-09-04 & digital\\_festival & job\\_seekers    & surabaya & 24\\\\\n",
       "\t 233 & 2022-08-06 & 2022-08-15 & 2022-08-30 & referral         & fresh\\_graduate & bandung  & 24\\\\\n",
       "\t 296 & 2022-08-24 & 2022-09-02 & 2022-09-19 & inbound          & fresh\\_graduate & surabaya & 25\\\\\n",
       "\t 164 & 2022-08-29 & 2022-09-11 & 2022-09-26 & organic          & fresh\\_graduate & surabaya & 25\\\\\n",
       "\t 267 & 2022-08-31 & 2022-09-12 & 2022-09-17 & inbound          & job\\_seekers    & surabaya & 26\\\\\n",
       "\t 112 & 2022-08-08 & 2022-08-15 & 2022-08-26 & inbound          & fresh\\_graduate & jakarta  & 24\\\\\n",
       "\t 212 & 2022-08-15 & 2022-08-24 & 2022-08-26 & digital\\_festival & student        & jakarta  & 18\\\\\n",
       "\t 201 & 2022-08-21 & 2022-08-28 & 2022-09-01 & inbound          & fresh\\_graduate & surabaya & 22\\\\\n",
       "\t 261 & 2022-08-08 & 2022-08-26 & 2022-09-09 & referral         & worker         & semarang & 32\\\\\n",
       "\t 168 & 2022-08-17 & 2022-08-19 & 2022-09-05 & digital\\_festival & fresh\\_graduate & jakarta  & 24\\\\\n",
       "\t 223 & 2022-08-07 & 2022-08-13 & 2022-08-31 & inbound          & student        & jakarta  & 18\\\\\n",
       "\t 261 & 2022-08-27 & 2022-09-11 & 2022-09-29 & inbound          & fresh\\_graduate & surabaya & 25\\\\\n",
       "\t 171 & 2022-08-08 & 2022-08-14 & 2022-08-18 & digital\\_festival & worker         & bandung  & 26\\\\\n",
       "\t 154 & 2022-08-10 & 2022-08-20 & 2022-08-31 & inbound          & student        & bandung  & 21\\\\\n",
       "\t 120 & 2022-08-26 & 2022-09-16 & 2022-09-23 & inbound          & fresh\\_graduate & semarang & 24\\\\\n",
       "\t 126 & 2022-08-08 & 2022-08-23 & 2022-08-25 & organic          & worker         & semarang & 22\\\\\n",
       "\t 262 & 2022-08-19 & 2022-09-01 & 2022-09-14 & digital\\_festival & job\\_seekers    & jakarta  & 22\\\\\n",
       "\t 159 & 2022-08-05 & 2022-08-06 & 2022-08-09 & referral         & student        & surabaya & 22\\\\\n",
       "\t 133 & 2022-08-11 & 2022-08-18 & 2022-08-27 & organic          & student        & bandung  & 20\\\\\n",
       "\t 207 & 2022-08-19 & 2022-08-19 & 2022-08-20 & inbound          & worker         & jakarta  & 25\\\\\n",
       "\t 212 & 2022-08-05 & 2022-08-20 & 2022-08-25 & referral         & worker         & jakarta  & 29\\\\\n",
       "\t 139 & 2022-08-10 & 2022-08-31 & 2022-09-21 & organic          & fresh\\_graduate & bandung  & 22\\\\\n",
       "\t 262 & 2022-08-01 & 2022-08-15 & 2022-08-25 & digital\\_festival & worker         & bandung  & 23\\\\\n",
       "\t 107 & 2022-08-12 & 2022-08-19 & 2022-09-06 & organic          & student        & surabaya & 20\\\\\n",
       "\t 111 & 2022-08-10 & 2022-08-19 & 2022-08-27 & referral         & student        & bandung  & 20\\\\\n",
       "\t 260 & 2022-08-23 & 2022-09-11 & 2022-09-30 & inbound          & worker         & jakarta  & 27\\\\\n",
       "\t 140 & 2022-08-17 & 2022-09-04 & 2022-09-06 & inbound          & worker         & jakarta  & 31\\\\\n",
       "\t 214 & 2022-08-25 & 2022-09-12 & 2022-09-28 & digital\\_festival & fresh\\_graduate & semarang & 22\\\\\n",
       "\t 104 & 2022-08-02 & 2022-08-06 & 2022-08-10 & digital\\_festival & student        & surabaya & 18\\\\\n",
       "\t 255 & 2022-08-03 & 2022-08-10 & 2022-08-16 & referral         & student        & bandung  & 18\\\\\n",
       "\t 234 & 2022-08-16 & 2022-08-17 & 2022-08-21 & organic          & job\\_seekers    & semarang & 29\\\\\n",
       "\t 257 & 2022-08-31 & 2022-09-16 & 2022-10-06 & inbound          & student        & jakarta  & 19\\\\\n",
       "\t 220 & 2022-08-06 & 2022-08-21 & 2022-08-31 & digital\\_festival & worker         & semarang & 33\\\\\n",
       "\t 197 & 2022-08-06 & 2022-08-23 & 2022-08-25 & digital\\_festival & worker         & jakarta  & 28\\\\\n",
       "\t 188 & 2022-08-17 & 2022-09-07 & 2022-09-10 & referral         & fresh\\_graduate & bandung  & 25\\\\\n",
       "\t 150 & 2022-08-09 & 2022-08-27 & 2022-09-03 & digital\\_festival & fresh\\_graduate & surabaya & 23\\\\\n",
       "\t 182 & 2022-08-30 & 2022-09-01 & 2022-09-17 & referral         & fresh\\_graduate & semarang & 23\\\\\n",
       "\t 169 & 2022-08-24 & 2022-09-05 & 2022-09-14 & inbound          & worker         & jakarta  & 25\\\\\n",
       "\t 157 & 2022-08-24 & 2022-09-02 & 2022-09-10 & referral         & student        & semarang & 22\\\\\n",
       "\t 165 & 2022-08-09 & 2022-08-18 & 2022-09-03 & digital\\_festival & fresh\\_graduate & bandung  & 22\\\\\n",
       "\t 221 & 2022-08-27 & 2022-08-28 & 2022-09-16 & inbound          & worker         & semarang & 24\\\\\n",
       "\t 282 & 2022-08-11 & 2022-08-28 & 2022-08-28 & organic          & job\\_seekers    & semarang & 22\\\\\n",
       "\t 209 & 2022-08-01 & 2022-08-18 & 2022-08-30 & organic          & worker         & surabaya & 30\\\\\n",
       "\t 193 & 2022-08-05 & 2022-08-11 & 2022-08-16 & digital\\_festival & worker         & surabaya & 29\\\\\n",
       "\t 272 & 2022-08-01 & 2022-08-07 & 2022-08-09 & organic          & fresh\\_graduate & bandung  & 25\\\\\n",
       "\t 280 & 2022-08-14 & 2022-08-18 & 2022-09-03 & inbound          & job\\_seekers    & jakarta  & 30\\\\\n",
       "\t 193 & 2022-08-18 & 2022-08-25 & 2022-09-05 & organic          & student        & bandung  & 21\\\\\n",
       "\t 203 & 2022-08-09 & 2022-08-12 & 2022-08-12 & referral         & job\\_seekers    & semarang & 28\\\\\n",
       "\t 200 & 2022-08-10 & 2022-08-27 & 2022-09-14 & inbound          & job\\_seekers    & surabaya & 23\\\\\n",
       "\t 189 & 2022-08-13 & 2022-08-19 & 2022-08-31 & organic          & job\\_seekers    & bandung  & 26\\\\\n",
       "\t 173 & 2022-08-07 & 2022-08-21 & 2022-08-28 & organic          & fresh\\_graduate & semarang & 24\\\\\n",
       "\t 218 & 2022-08-14 & 2022-08-23 & 2022-09-09 & digital\\_festival & worker         & surabaya & 34\\\\\n",
       "\t 131 & 2022-08-29 & 2022-09-02 & 2022-09-16 & referral         & fresh\\_graduate & bandung  & 23\\\\\n",
       "\\end{tabular}\n"
      ],
      "text/markdown": [
       "\n",
       "A spec_tbl_df: 100 × 8\n",
       "\n",
       "| user_id &lt;chr&gt; | first_contact &lt;date&gt; | checkout_date &lt;date&gt; | paid_date &lt;date&gt; | channel &lt;fct&gt; | occupation &lt;fct&gt; | city &lt;fct&gt; | age &lt;int&gt; |\n",
       "|---|---|---|---|---|---|---|---|\n",
       "| 297 | 2022-08-07 | 2022-08-17 | 2022-08-19 | referral         | worker         | bandung  | 33 |\n",
       "| 197 | 2022-08-30 | 2022-09-13 | 2022-10-01 | organic          | job_seekers    | jakarta  | 23 |\n",
       "| 259 | 2022-08-27 | 2022-08-29 | 2022-09-10 | inbound          | job_seekers    | semarang | 29 |\n",
       "| 207 | 2022-08-28 | 2022-09-16 | 2022-09-24 | organic          | worker         | semarang | 22 |\n",
       "| 155 | 2022-08-31 | 2022-09-06 | 2022-09-13 | referral         | fresh_graduate | semarang | 22 |\n",
       "| 131 | 2022-08-28 | 2022-08-30 | 2022-09-02 | inbound          | job_seekers    | surabaya | 29 |\n",
       "| 254 | 2022-08-15 | 2022-09-04 | 2022-09-17 | digital_festival | job_seekers    | semarang | 26 |\n",
       "| 244 | 2022-08-13 | 2022-08-16 | 2022-09-05 | digital_festival | fresh_graduate | jakarta  | 25 |\n",
       "| 141 | 2022-08-01 | 2022-08-04 | 2022-08-14 | organic          | job_seekers    | surabaya | 25 |\n",
       "| 244 | 2022-08-07 | 2022-08-15 | 2022-08-23 | digital_festival | student        | bandung  | 19 |\n",
       "| 245 | 2022-08-09 | 2022-08-16 | 2022-08-22 | referral         | fresh_graduate | surabaya | 22 |\n",
       "| 283 | 2022-08-13 | 2022-08-18 | 2022-08-28 | organic          | job_seekers    | surabaya | 26 |\n",
       "| 280 | 2022-08-07 | 2022-08-12 | 2022-08-23 | organic          | fresh_graduate | surabaya | 25 |\n",
       "| 209 | 2022-08-17 | 2022-09-04 | 2022-09-21 | inbound          | job_seekers    | surabaya | 29 |\n",
       "| 236 | 2022-08-27 | 2022-09-04 | 2022-09-20 | organic          | fresh_graduate | semarang | 23 |\n",
       "| 199 | 2022-08-27 | 2022-09-06 | 2022-09-10 | digital_festival | fresh_graduate | bandung  | 23 |\n",
       "| 279 | 2022-08-21 | 2022-09-09 | 2022-09-15 | referral         | student        | surabaya | 22 |\n",
       "| 125 | 2022-08-19 | 2022-08-29 | 2022-09-09 | digital_festival | student        | bandung  | 19 |\n",
       "| 125 | 2022-08-12 | 2022-08-25 | 2022-09-12 | referral         | fresh_graduate | bandung  | 24 |\n",
       "| 129 | 2022-08-26 | 2022-08-30 | 2022-09-08 | digital_festival | student        | surabaya | 20 |\n",
       "| 219 | 2022-08-11 | 2022-08-16 | 2022-08-16 | inbound          | job_seekers    | surabaya | 26 |\n",
       "| 262 | 2022-08-07 | 2022-08-13 | 2022-08-30 | digital_festival | job_seekers    | bandung  | 24 |\n",
       "| 282 | 2022-08-16 | 2022-08-25 | 2022-08-25 | digital_festival | job_seekers    | semarang | 26 |\n",
       "| 119 | 2022-08-07 | 2022-08-25 | 2022-08-26 | inbound          | fresh_graduate | jakarta  | 23 |\n",
       "| 135 | 2022-08-17 | 2022-09-05 | 2022-09-20 | organic          | student        | semarang | 20 |\n",
       "| 122 | 2022-08-28 | 2022-09-16 | 2022-10-05 | inbound          | fresh_graduate | semarang | 23 |\n",
       "| 299 | 2022-08-05 | 2022-08-18 | 2022-08-28 | digital_festival | job_seekers    | jakarta  | 30 |\n",
       "| 228 | 2022-08-18 | 2022-08-27 | 2022-09-06 | referral         | fresh_graduate | surabaya | 25 |\n",
       "| 115 | 2022-08-22 | 2022-08-25 | 2022-08-26 | organic          | worker         | surabaya | 29 |\n",
       "| 124 | 2022-08-28 | 2022-09-13 | 2022-09-16 | inbound          | student        | jakarta  | 22 |\n",
       "| 113 | 2022-08-04 | 2022-08-13 | 2022-08-31 | digital_festival | worker         | bandung  | 27 |\n",
       "| 177 | 2022-08-15 | 2022-09-04 | 2022-09-22 | digital_festival | job_seekers    | jakarta  | 25 |\n",
       "| 136 | 2022-08-21 | 2022-08-22 | 2022-08-22 | digital_festival | job_seekers    | surabaya | 22 |\n",
       "| 210 | 2022-08-11 | 2022-08-19 | 2022-08-23 | inbound          | student        | bandung  | 21 |\n",
       "| 216 | 2022-08-16 | 2022-08-20 | 2022-08-28 | inbound          | fresh_graduate | jakarta  | 24 |\n",
       "| 184 | 2022-08-29 | 2022-09-05 | 2022-09-24 | referral         | fresh_graduate | surabaya | 22 |\n",
       "| 170 | 2022-08-19 | 2022-09-05 | 2022-09-20 | referral         | student        | bandung  | 22 |\n",
       "| 150 | 2022-08-27 | 2022-09-06 | 2022-09-16 | inbound          | fresh_graduate | bandung  | 23 |\n",
       "| 278 | 2022-08-22 | 2022-08-27 | 2022-09-11 | organic          | student        | bandung  | 22 |\n",
       "| 232 | 2022-08-07 | 2022-08-14 | 2022-08-14 | inbound          | worker         | bandung  | 28 |\n",
       "| 280 | 2022-08-30 | 2022-09-15 | 2022-09-23 | inbound          | worker         | jakarta  | 22 |\n",
       "| 200 | 2022-08-23 | 2022-08-27 | 2022-09-10 | digital_festival | job_seekers    | bandung  | 22 |\n",
       "| 244 | 2022-08-17 | 2022-09-02 | 2022-09-12 | referral         | worker         | semarang | 22 |\n",
       "| 236 | 2022-08-24 | 2022-08-25 | 2022-09-11 | referral         | job_seekers    | semarang | 27 |\n",
       "| 270 | 2022-08-06 | 2022-08-08 | 2022-08-21 | referral         | student        | jakarta  | 19 |\n",
       "| 264 | 2022-08-12 | 2022-08-16 | 2022-08-21 | referral         | job_seekers    | surabaya | 24 |\n",
       "| 297 | 2022-08-17 | 2022-09-06 | 2022-09-09 | organic          | fresh_graduate | surabaya | 23 |\n",
       "| 245 | 2022-08-20 | 2022-08-21 | 2022-09-04 | digital_festival | job_seekers    | surabaya | 24 |\n",
       "| 233 | 2022-08-06 | 2022-08-15 | 2022-08-30 | referral         | fresh_graduate | bandung  | 24 |\n",
       "| 296 | 2022-08-24 | 2022-09-02 | 2022-09-19 | inbound          | fresh_graduate | surabaya | 25 |\n",
       "| 164 | 2022-08-29 | 2022-09-11 | 2022-09-26 | organic          | fresh_graduate | surabaya | 25 |\n",
       "| 267 | 2022-08-31 | 2022-09-12 | 2022-09-17 | inbound          | job_seekers    | surabaya | 26 |\n",
       "| 112 | 2022-08-08 | 2022-08-15 | 2022-08-26 | inbound          | fresh_graduate | jakarta  | 24 |\n",
       "| 212 | 2022-08-15 | 2022-08-24 | 2022-08-26 | digital_festival | student        | jakarta  | 18 |\n",
       "| 201 | 2022-08-21 | 2022-08-28 | 2022-09-01 | inbound          | fresh_graduate | surabaya | 22 |\n",
       "| 261 | 2022-08-08 | 2022-08-26 | 2022-09-09 | referral         | worker         | semarang | 32 |\n",
       "| 168 | 2022-08-17 | 2022-08-19 | 2022-09-05 | digital_festival | fresh_graduate | jakarta  | 24 |\n",
       "| 223 | 2022-08-07 | 2022-08-13 | 2022-08-31 | inbound          | student        | jakarta  | 18 |\n",
       "| 261 | 2022-08-27 | 2022-09-11 | 2022-09-29 | inbound          | fresh_graduate | surabaya | 25 |\n",
       "| 171 | 2022-08-08 | 2022-08-14 | 2022-08-18 | digital_festival | worker         | bandung  | 26 |\n",
       "| 154 | 2022-08-10 | 2022-08-20 | 2022-08-31 | inbound          | student        | bandung  | 21 |\n",
       "| 120 | 2022-08-26 | 2022-09-16 | 2022-09-23 | inbound          | fresh_graduate | semarang | 24 |\n",
       "| 126 | 2022-08-08 | 2022-08-23 | 2022-08-25 | organic          | worker         | semarang | 22 |\n",
       "| 262 | 2022-08-19 | 2022-09-01 | 2022-09-14 | digital_festival | job_seekers    | jakarta  | 22 |\n",
       "| 159 | 2022-08-05 | 2022-08-06 | 2022-08-09 | referral         | student        | surabaya | 22 |\n",
       "| 133 | 2022-08-11 | 2022-08-18 | 2022-08-27 | organic          | student        | bandung  | 20 |\n",
       "| 207 | 2022-08-19 | 2022-08-19 | 2022-08-20 | inbound          | worker         | jakarta  | 25 |\n",
       "| 212 | 2022-08-05 | 2022-08-20 | 2022-08-25 | referral         | worker         | jakarta  | 29 |\n",
       "| 139 | 2022-08-10 | 2022-08-31 | 2022-09-21 | organic          | fresh_graduate | bandung  | 22 |\n",
       "| 262 | 2022-08-01 | 2022-08-15 | 2022-08-25 | digital_festival | worker         | bandung  | 23 |\n",
       "| 107 | 2022-08-12 | 2022-08-19 | 2022-09-06 | organic          | student        | surabaya | 20 |\n",
       "| 111 | 2022-08-10 | 2022-08-19 | 2022-08-27 | referral         | student        | bandung  | 20 |\n",
       "| 260 | 2022-08-23 | 2022-09-11 | 2022-09-30 | inbound          | worker         | jakarta  | 27 |\n",
       "| 140 | 2022-08-17 | 2022-09-04 | 2022-09-06 | inbound          | worker         | jakarta  | 31 |\n",
       "| 214 | 2022-08-25 | 2022-09-12 | 2022-09-28 | digital_festival | fresh_graduate | semarang | 22 |\n",
       "| 104 | 2022-08-02 | 2022-08-06 | 2022-08-10 | digital_festival | student        | surabaya | 18 |\n",
       "| 255 | 2022-08-03 | 2022-08-10 | 2022-08-16 | referral         | student        | bandung  | 18 |\n",
       "| 234 | 2022-08-16 | 2022-08-17 | 2022-08-21 | organic          | job_seekers    | semarang | 29 |\n",
       "| 257 | 2022-08-31 | 2022-09-16 | 2022-10-06 | inbound          | student        | jakarta  | 19 |\n",
       "| 220 | 2022-08-06 | 2022-08-21 | 2022-08-31 | digital_festival | worker         | semarang | 33 |\n",
       "| 197 | 2022-08-06 | 2022-08-23 | 2022-08-25 | digital_festival | worker         | jakarta  | 28 |\n",
       "| 188 | 2022-08-17 | 2022-09-07 | 2022-09-10 | referral         | fresh_graduate | bandung  | 25 |\n",
       "| 150 | 2022-08-09 | 2022-08-27 | 2022-09-03 | digital_festival | fresh_graduate | surabaya | 23 |\n",
       "| 182 | 2022-08-30 | 2022-09-01 | 2022-09-17 | referral         | fresh_graduate | semarang | 23 |\n",
       "| 169 | 2022-08-24 | 2022-09-05 | 2022-09-14 | inbound          | worker         | jakarta  | 25 |\n",
       "| 157 | 2022-08-24 | 2022-09-02 | 2022-09-10 | referral         | student        | semarang | 22 |\n",
       "| 165 | 2022-08-09 | 2022-08-18 | 2022-09-03 | digital_festival | fresh_graduate | bandung  | 22 |\n",
       "| 221 | 2022-08-27 | 2022-08-28 | 2022-09-16 | inbound          | worker         | semarang | 24 |\n",
       "| 282 | 2022-08-11 | 2022-08-28 | 2022-08-28 | organic          | job_seekers    | semarang | 22 |\n",
       "| 209 | 2022-08-01 | 2022-08-18 | 2022-08-30 | organic          | worker         | surabaya | 30 |\n",
       "| 193 | 2022-08-05 | 2022-08-11 | 2022-08-16 | digital_festival | worker         | surabaya | 29 |\n",
       "| 272 | 2022-08-01 | 2022-08-07 | 2022-08-09 | organic          | fresh_graduate | bandung  | 25 |\n",
       "| 280 | 2022-08-14 | 2022-08-18 | 2022-09-03 | inbound          | job_seekers    | jakarta  | 30 |\n",
       "| 193 | 2022-08-18 | 2022-08-25 | 2022-09-05 | organic          | student        | bandung  | 21 |\n",
       "| 203 | 2022-08-09 | 2022-08-12 | 2022-08-12 | referral         | job_seekers    | semarang | 28 |\n",
       "| 200 | 2022-08-10 | 2022-08-27 | 2022-09-14 | inbound          | job_seekers    | surabaya | 23 |\n",
       "| 189 | 2022-08-13 | 2022-08-19 | 2022-08-31 | organic          | job_seekers    | bandung  | 26 |\n",
       "| 173 | 2022-08-07 | 2022-08-21 | 2022-08-28 | organic          | fresh_graduate | semarang | 24 |\n",
       "| 218 | 2022-08-14 | 2022-08-23 | 2022-09-09 | digital_festival | worker         | surabaya | 34 |\n",
       "| 131 | 2022-08-29 | 2022-09-02 | 2022-09-16 | referral         | fresh_graduate | bandung  | 23 |\n",
       "\n"
      ],
      "text/plain": [
       "    user_id first_contact checkout_date paid_date  channel         \n",
       "1   297     2022-08-07    2022-08-17    2022-08-19 referral        \n",
       "2   197     2022-08-30    2022-09-13    2022-10-01 organic         \n",
       "3   259     2022-08-27    2022-08-29    2022-09-10 inbound         \n",
       "4   207     2022-08-28    2022-09-16    2022-09-24 organic         \n",
       "5   155     2022-08-31    2022-09-06    2022-09-13 referral        \n",
       "6   131     2022-08-28    2022-08-30    2022-09-02 inbound         \n",
       "7   254     2022-08-15    2022-09-04    2022-09-17 digital_festival\n",
       "8   244     2022-08-13    2022-08-16    2022-09-05 digital_festival\n",
       "9   141     2022-08-01    2022-08-04    2022-08-14 organic         \n",
       "10  244     2022-08-07    2022-08-15    2022-08-23 digital_festival\n",
       "11  245     2022-08-09    2022-08-16    2022-08-22 referral        \n",
       "12  283     2022-08-13    2022-08-18    2022-08-28 organic         \n",
       "13  280     2022-08-07    2022-08-12    2022-08-23 organic         \n",
       "14  209     2022-08-17    2022-09-04    2022-09-21 inbound         \n",
       "15  236     2022-08-27    2022-09-04    2022-09-20 organic         \n",
       "16  199     2022-08-27    2022-09-06    2022-09-10 digital_festival\n",
       "17  279     2022-08-21    2022-09-09    2022-09-15 referral        \n",
       "18  125     2022-08-19    2022-08-29    2022-09-09 digital_festival\n",
       "19  125     2022-08-12    2022-08-25    2022-09-12 referral        \n",
       "20  129     2022-08-26    2022-08-30    2022-09-08 digital_festival\n",
       "21  219     2022-08-11    2022-08-16    2022-08-16 inbound         \n",
       "22  262     2022-08-07    2022-08-13    2022-08-30 digital_festival\n",
       "23  282     2022-08-16    2022-08-25    2022-08-25 digital_festival\n",
       "24  119     2022-08-07    2022-08-25    2022-08-26 inbound         \n",
       "25  135     2022-08-17    2022-09-05    2022-09-20 organic         \n",
       "26  122     2022-08-28    2022-09-16    2022-10-05 inbound         \n",
       "27  299     2022-08-05    2022-08-18    2022-08-28 digital_festival\n",
       "28  228     2022-08-18    2022-08-27    2022-09-06 referral        \n",
       "29  115     2022-08-22    2022-08-25    2022-08-26 organic         \n",
       "30  124     2022-08-28    2022-09-13    2022-09-16 inbound         \n",
       "31  113     2022-08-04    2022-08-13    2022-08-31 digital_festival\n",
       "32  177     2022-08-15    2022-09-04    2022-09-22 digital_festival\n",
       "33  136     2022-08-21    2022-08-22    2022-08-22 digital_festival\n",
       "34  210     2022-08-11    2022-08-19    2022-08-23 inbound         \n",
       "35  216     2022-08-16    2022-08-20    2022-08-28 inbound         \n",
       "36  184     2022-08-29    2022-09-05    2022-09-24 referral        \n",
       "37  170     2022-08-19    2022-09-05    2022-09-20 referral        \n",
       "38  150     2022-08-27    2022-09-06    2022-09-16 inbound         \n",
       "39  278     2022-08-22    2022-08-27    2022-09-11 organic         \n",
       "40  232     2022-08-07    2022-08-14    2022-08-14 inbound         \n",
       "41  280     2022-08-30    2022-09-15    2022-09-23 inbound         \n",
       "42  200     2022-08-23    2022-08-27    2022-09-10 digital_festival\n",
       "43  244     2022-08-17    2022-09-02    2022-09-12 referral        \n",
       "44  236     2022-08-24    2022-08-25    2022-09-11 referral        \n",
       "45  270     2022-08-06    2022-08-08    2022-08-21 referral        \n",
       "46  264     2022-08-12    2022-08-16    2022-08-21 referral        \n",
       "47  297     2022-08-17    2022-09-06    2022-09-09 organic         \n",
       "48  245     2022-08-20    2022-08-21    2022-09-04 digital_festival\n",
       "49  233     2022-08-06    2022-08-15    2022-08-30 referral        \n",
       "50  296     2022-08-24    2022-09-02    2022-09-19 inbound         \n",
       "51  164     2022-08-29    2022-09-11    2022-09-26 organic         \n",
       "52  267     2022-08-31    2022-09-12    2022-09-17 inbound         \n",
       "53  112     2022-08-08    2022-08-15    2022-08-26 inbound         \n",
       "54  212     2022-08-15    2022-08-24    2022-08-26 digital_festival\n",
       "55  201     2022-08-21    2022-08-28    2022-09-01 inbound         \n",
       "56  261     2022-08-08    2022-08-26    2022-09-09 referral        \n",
       "57  168     2022-08-17    2022-08-19    2022-09-05 digital_festival\n",
       "58  223     2022-08-07    2022-08-13    2022-08-31 inbound         \n",
       "59  261     2022-08-27    2022-09-11    2022-09-29 inbound         \n",
       "60  171     2022-08-08    2022-08-14    2022-08-18 digital_festival\n",
       "61  154     2022-08-10    2022-08-20    2022-08-31 inbound         \n",
       "62  120     2022-08-26    2022-09-16    2022-09-23 inbound         \n",
       "63  126     2022-08-08    2022-08-23    2022-08-25 organic         \n",
       "64  262     2022-08-19    2022-09-01    2022-09-14 digital_festival\n",
       "65  159     2022-08-05    2022-08-06    2022-08-09 referral        \n",
       "66  133     2022-08-11    2022-08-18    2022-08-27 organic         \n",
       "67  207     2022-08-19    2022-08-19    2022-08-20 inbound         \n",
       "68  212     2022-08-05    2022-08-20    2022-08-25 referral        \n",
       "69  139     2022-08-10    2022-08-31    2022-09-21 organic         \n",
       "70  262     2022-08-01    2022-08-15    2022-08-25 digital_festival\n",
       "71  107     2022-08-12    2022-08-19    2022-09-06 organic         \n",
       "72  111     2022-08-10    2022-08-19    2022-08-27 referral        \n",
       "73  260     2022-08-23    2022-09-11    2022-09-30 inbound         \n",
       "74  140     2022-08-17    2022-09-04    2022-09-06 inbound         \n",
       "75  214     2022-08-25    2022-09-12    2022-09-28 digital_festival\n",
       "76  104     2022-08-02    2022-08-06    2022-08-10 digital_festival\n",
       "77  255     2022-08-03    2022-08-10    2022-08-16 referral        \n",
       "78  234     2022-08-16    2022-08-17    2022-08-21 organic         \n",
       "79  257     2022-08-31    2022-09-16    2022-10-06 inbound         \n",
       "80  220     2022-08-06    2022-08-21    2022-08-31 digital_festival\n",
       "81  197     2022-08-06    2022-08-23    2022-08-25 digital_festival\n",
       "82  188     2022-08-17    2022-09-07    2022-09-10 referral        \n",
       "83  150     2022-08-09    2022-08-27    2022-09-03 digital_festival\n",
       "84  182     2022-08-30    2022-09-01    2022-09-17 referral        \n",
       "85  169     2022-08-24    2022-09-05    2022-09-14 inbound         \n",
       "86  157     2022-08-24    2022-09-02    2022-09-10 referral        \n",
       "87  165     2022-08-09    2022-08-18    2022-09-03 digital_festival\n",
       "88  221     2022-08-27    2022-08-28    2022-09-16 inbound         \n",
       "89  282     2022-08-11    2022-08-28    2022-08-28 organic         \n",
       "90  209     2022-08-01    2022-08-18    2022-08-30 organic         \n",
       "91  193     2022-08-05    2022-08-11    2022-08-16 digital_festival\n",
       "92  272     2022-08-01    2022-08-07    2022-08-09 organic         \n",
       "93  280     2022-08-14    2022-08-18    2022-09-03 inbound         \n",
       "94  193     2022-08-18    2022-08-25    2022-09-05 organic         \n",
       "95  203     2022-08-09    2022-08-12    2022-08-12 referral        \n",
       "96  200     2022-08-10    2022-08-27    2022-09-14 inbound         \n",
       "97  189     2022-08-13    2022-08-19    2022-08-31 organic         \n",
       "98  173     2022-08-07    2022-08-21    2022-08-28 organic         \n",
       "99  218     2022-08-14    2022-08-23    2022-09-09 digital_festival\n",
       "100 131     2022-08-29    2022-09-02    2022-09-16 referral        \n",
       "    occupation     city     age\n",
       "1   worker         bandung  33 \n",
       "2   job_seekers    jakarta  23 \n",
       "3   job_seekers    semarang 29 \n",
       "4   worker         semarang 22 \n",
       "5   fresh_graduate semarang 22 \n",
       "6   job_seekers    surabaya 29 \n",
       "7   job_seekers    semarang 26 \n",
       "8   fresh_graduate jakarta  25 \n",
       "9   job_seekers    surabaya 25 \n",
       "10  student        bandung  19 \n",
       "11  fresh_graduate surabaya 22 \n",
       "12  job_seekers    surabaya 26 \n",
       "13  fresh_graduate surabaya 25 \n",
       "14  job_seekers    surabaya 29 \n",
       "15  fresh_graduate semarang 23 \n",
       "16  fresh_graduate bandung  23 \n",
       "17  student        surabaya 22 \n",
       "18  student        bandung  19 \n",
       "19  fresh_graduate bandung  24 \n",
       "20  student        surabaya 20 \n",
       "21  job_seekers    surabaya 26 \n",
       "22  job_seekers    bandung  24 \n",
       "23  job_seekers    semarang 26 \n",
       "24  fresh_graduate jakarta  23 \n",
       "25  student        semarang 20 \n",
       "26  fresh_graduate semarang 23 \n",
       "27  job_seekers    jakarta  30 \n",
       "28  fresh_graduate surabaya 25 \n",
       "29  worker         surabaya 29 \n",
       "30  student        jakarta  22 \n",
       "31  worker         bandung  27 \n",
       "32  job_seekers    jakarta  25 \n",
       "33  job_seekers    surabaya 22 \n",
       "34  student        bandung  21 \n",
       "35  fresh_graduate jakarta  24 \n",
       "36  fresh_graduate surabaya 22 \n",
       "37  student        bandung  22 \n",
       "38  fresh_graduate bandung  23 \n",
       "39  student        bandung  22 \n",
       "40  worker         bandung  28 \n",
       "41  worker         jakarta  22 \n",
       "42  job_seekers    bandung  22 \n",
       "43  worker         semarang 22 \n",
       "44  job_seekers    semarang 27 \n",
       "45  student        jakarta  19 \n",
       "46  job_seekers    surabaya 24 \n",
       "47  fresh_graduate surabaya 23 \n",
       "48  job_seekers    surabaya 24 \n",
       "49  fresh_graduate bandung  24 \n",
       "50  fresh_graduate surabaya 25 \n",
       "51  fresh_graduate surabaya 25 \n",
       "52  job_seekers    surabaya 26 \n",
       "53  fresh_graduate jakarta  24 \n",
       "54  student        jakarta  18 \n",
       "55  fresh_graduate surabaya 22 \n",
       "56  worker         semarang 32 \n",
       "57  fresh_graduate jakarta  24 \n",
       "58  student        jakarta  18 \n",
       "59  fresh_graduate surabaya 25 \n",
       "60  worker         bandung  26 \n",
       "61  student        bandung  21 \n",
       "62  fresh_graduate semarang 24 \n",
       "63  worker         semarang 22 \n",
       "64  job_seekers    jakarta  22 \n",
       "65  student        surabaya 22 \n",
       "66  student        bandung  20 \n",
       "67  worker         jakarta  25 \n",
       "68  worker         jakarta  29 \n",
       "69  fresh_graduate bandung  22 \n",
       "70  worker         bandung  23 \n",
       "71  student        surabaya 20 \n",
       "72  student        bandung  20 \n",
       "73  worker         jakarta  27 \n",
       "74  worker         jakarta  31 \n",
       "75  fresh_graduate semarang 22 \n",
       "76  student        surabaya 18 \n",
       "77  student        bandung  18 \n",
       "78  job_seekers    semarang 29 \n",
       "79  student        jakarta  19 \n",
       "80  worker         semarang 33 \n",
       "81  worker         jakarta  28 \n",
       "82  fresh_graduate bandung  25 \n",
       "83  fresh_graduate surabaya 23 \n",
       "84  fresh_graduate semarang 23 \n",
       "85  worker         jakarta  25 \n",
       "86  student        semarang 22 \n",
       "87  fresh_graduate bandung  22 \n",
       "88  worker         semarang 24 \n",
       "89  job_seekers    semarang 22 \n",
       "90  worker         surabaya 30 \n",
       "91  worker         surabaya 29 \n",
       "92  fresh_graduate bandung  25 \n",
       "93  job_seekers    jakarta  30 \n",
       "94  student        bandung  21 \n",
       "95  job_seekers    semarang 28 \n",
       "96  job_seekers    surabaya 23 \n",
       "97  job_seekers    bandung  26 \n",
       "98  fresh_graduate semarang 24 \n",
       "99  worker         surabaya 34 \n",
       "100 fresh_graduate bandung  23 "
      ]
     },
     "metadata": {},
     "output_type": "display_data"
    }
   ],
   "source": [
    "data"
   ]
  },
  {
   "cell_type": "code",
   "execution_count": 11,
   "id": "94100e88",
   "metadata": {},
   "outputs": [],
   "source": [
    "options(repr.matrix.max.rows = 15)"
   ]
  },
  {
   "cell_type": "markdown",
   "id": "0e605ac4",
   "metadata": {},
   "source": [
    "<div id=\"pythondropcols\">\n",
    "    <div style=\"font-size:20pt;font-weight:700;padding:20px 0;line-height:1.2\">4.5 Dropping Unnecessary Columns and Removing > 70% Missing Values</div>\n",
    "    <div style=\"text-align: right;\"><a href=\"#toc\" style=\"text-decoration:none;\">↑ Table of Contents</a></div>\n",
    "</div>"
   ]
  },
  {
   "cell_type": "code",
   "execution_count": 12,
   "id": "ecc755b0",
   "metadata": {},
   "outputs": [
    {
     "data": {
      "text/html": [
       "<dl>\n",
       "\t<dt>$user_id</dt>\n",
       "\t\t<dd>0</dd>\n",
       "\t<dt>$first_contact</dt>\n",
       "\t\t<dd>0</dd>\n",
       "\t<dt>$checkout_date</dt>\n",
       "\t\t<dd>0</dd>\n",
       "\t<dt>$paid_date</dt>\n",
       "\t\t<dd>0</dd>\n",
       "\t<dt>$channel</dt>\n",
       "\t\t<dd>0</dd>\n",
       "\t<dt>$occupation</dt>\n",
       "\t\t<dd>0</dd>\n",
       "\t<dt>$city</dt>\n",
       "\t\t<dd>0</dd>\n",
       "\t<dt>$age</dt>\n",
       "\t\t<dd>0</dd>\n",
       "</dl>\n"
      ],
      "text/latex": [
       "\\begin{description}\n",
       "\\item[\\$user\\_id] 0\n",
       "\\item[\\$first\\_contact] 0\n",
       "\\item[\\$checkout\\_date] 0\n",
       "\\item[\\$paid\\_date] 0\n",
       "\\item[\\$channel] 0\n",
       "\\item[\\$occupation] 0\n",
       "\\item[\\$city] 0\n",
       "\\item[\\$age] 0\n",
       "\\end{description}\n"
      ],
      "text/markdown": [
       "$user_id\n",
       ":   0\n",
       "$first_contact\n",
       ":   0\n",
       "$checkout_date\n",
       ":   0\n",
       "$paid_date\n",
       ":   0\n",
       "$channel\n",
       ":   0\n",
       "$occupation\n",
       ":   0\n",
       "$city\n",
       ":   0\n",
       "$age\n",
       ":   0\n",
       "\n",
       "\n"
      ],
      "text/plain": [
       "$user_id\n",
       "[1] 0\n",
       "\n",
       "$first_contact\n",
       "[1] 0\n",
       "\n",
       "$checkout_date\n",
       "[1] 0\n",
       "\n",
       "$paid_date\n",
       "[1] 0\n",
       "\n",
       "$channel\n",
       "[1] 0\n",
       "\n",
       "$occupation\n",
       "[1] 0\n",
       "\n",
       "$city\n",
       "[1] 0\n",
       "\n",
       "$age\n",
       "[1] 0\n"
      ]
     },
     "metadata": {},
     "output_type": "display_data"
    }
   ],
   "source": [
    "data %>% map(~sum(is.na(.)))"
   ]
  },
  {
   "cell_type": "markdown",
   "id": "3e8c321a",
   "metadata": {},
   "source": [
    "<div id=\"dupvalues\">\n",
    "    <div style=\"font-size:20pt;font-weight:700;padding:20px 0;line-height:1.2\">4.6 Removing Duplicated Values</div>\n",
    "    <div style=\"text-align: right;\"><a href=\"#toc\" style=\"text-decoration:none;\">↑ Table of Contents</a></div>\n",
    "</div>"
   ]
  },
  {
   "cell_type": "code",
   "execution_count": 13,
   "id": "de0d3127",
   "metadata": {
    "scrolled": true
   },
   "outputs": [
    {
     "data": {
      "text/html": [
       "0"
      ],
      "text/latex": [
       "0"
      ],
      "text/markdown": [
       "0"
      ],
      "text/plain": [
       "[1] 0"
      ]
     },
     "metadata": {},
     "output_type": "display_data"
    }
   ],
   "source": [
    "sum(duplicated(data))"
   ]
  },
  {
   "cell_type": "markdown",
   "id": "11250cf3",
   "metadata": {},
   "source": [
    "<div id=\"creatnefeatures\">\n",
    "    <div style=\"font-size:20pt;font-weight:700;padding:20px 0;line-height:1.2\">4.7 Creating New Features</div>\n",
    "    <div style=\"text-align: right;\"><a href=\"#toc\" style=\"text-decoration:none;\">↑ Table of Contents</a></div>\n",
    "</div>"
   ]
  },
  {
   "cell_type": "code",
   "execution_count": 14,
   "id": "9086b3d3",
   "metadata": {},
   "outputs": [],
   "source": [
    "data <- data %>%\n",
    "  mutate(lead_time_in_days = as.integer(gsub(\"\\\\D\", \"\", paid_date - first_contact)))"
   ]
  },
  {
   "cell_type": "code",
   "execution_count": 15,
   "id": "f4eae075",
   "metadata": {
    "scrolled": false
   },
   "outputs": [
    {
     "data": {
      "text/html": [
       "<table class=\"dataframe\">\n",
       "<caption>A tibble: 6 × 9</caption>\n",
       "<thead>\n",
       "\t<tr><th scope=col>user_id</th><th scope=col>first_contact</th><th scope=col>checkout_date</th><th scope=col>paid_date</th><th scope=col>channel</th><th scope=col>occupation</th><th scope=col>city</th><th scope=col>age</th><th scope=col>lead_time_in_days</th></tr>\n",
       "\t<tr><th scope=col>&lt;chr&gt;</th><th scope=col>&lt;date&gt;</th><th scope=col>&lt;date&gt;</th><th scope=col>&lt;date&gt;</th><th scope=col>&lt;fct&gt;</th><th scope=col>&lt;fct&gt;</th><th scope=col>&lt;fct&gt;</th><th scope=col>&lt;int&gt;</th><th scope=col>&lt;int&gt;</th></tr>\n",
       "</thead>\n",
       "<tbody>\n",
       "\t<tr><td>297</td><td>2022-08-07</td><td>2022-08-17</td><td>2022-08-19</td><td>referral</td><td>worker        </td><td>bandung </td><td>33</td><td>12</td></tr>\n",
       "\t<tr><td>197</td><td>2022-08-30</td><td>2022-09-13</td><td>2022-10-01</td><td>organic </td><td>job_seekers   </td><td>jakarta </td><td>23</td><td>32</td></tr>\n",
       "\t<tr><td>259</td><td>2022-08-27</td><td>2022-08-29</td><td>2022-09-10</td><td>inbound </td><td>job_seekers   </td><td>semarang</td><td>29</td><td>14</td></tr>\n",
       "\t<tr><td>207</td><td>2022-08-28</td><td>2022-09-16</td><td>2022-09-24</td><td>organic </td><td>worker        </td><td>semarang</td><td>22</td><td>27</td></tr>\n",
       "\t<tr><td>155</td><td>2022-08-31</td><td>2022-09-06</td><td>2022-09-13</td><td>referral</td><td>fresh_graduate</td><td>semarang</td><td>22</td><td>13</td></tr>\n",
       "\t<tr><td>131</td><td>2022-08-28</td><td>2022-08-30</td><td>2022-09-02</td><td>inbound </td><td>job_seekers   </td><td>surabaya</td><td>29</td><td> 5</td></tr>\n",
       "</tbody>\n",
       "</table>\n"
      ],
      "text/latex": [
       "A tibble: 6 × 9\n",
       "\\begin{tabular}{lllllllll}\n",
       " user\\_id & first\\_contact & checkout\\_date & paid\\_date & channel & occupation & city & age & lead\\_time\\_in\\_days\\\\\n",
       " <chr> & <date> & <date> & <date> & <fct> & <fct> & <fct> & <int> & <int>\\\\\n",
       "\\hline\n",
       "\t 297 & 2022-08-07 & 2022-08-17 & 2022-08-19 & referral & worker         & bandung  & 33 & 12\\\\\n",
       "\t 197 & 2022-08-30 & 2022-09-13 & 2022-10-01 & organic  & job\\_seekers    & jakarta  & 23 & 32\\\\\n",
       "\t 259 & 2022-08-27 & 2022-08-29 & 2022-09-10 & inbound  & job\\_seekers    & semarang & 29 & 14\\\\\n",
       "\t 207 & 2022-08-28 & 2022-09-16 & 2022-09-24 & organic  & worker         & semarang & 22 & 27\\\\\n",
       "\t 155 & 2022-08-31 & 2022-09-06 & 2022-09-13 & referral & fresh\\_graduate & semarang & 22 & 13\\\\\n",
       "\t 131 & 2022-08-28 & 2022-08-30 & 2022-09-02 & inbound  & job\\_seekers    & surabaya & 29 &  5\\\\\n",
       "\\end{tabular}\n"
      ],
      "text/markdown": [
       "\n",
       "A tibble: 6 × 9\n",
       "\n",
       "| user_id &lt;chr&gt; | first_contact &lt;date&gt; | checkout_date &lt;date&gt; | paid_date &lt;date&gt; | channel &lt;fct&gt; | occupation &lt;fct&gt; | city &lt;fct&gt; | age &lt;int&gt; | lead_time_in_days &lt;int&gt; |\n",
       "|---|---|---|---|---|---|---|---|---|\n",
       "| 297 | 2022-08-07 | 2022-08-17 | 2022-08-19 | referral | worker         | bandung  | 33 | 12 |\n",
       "| 197 | 2022-08-30 | 2022-09-13 | 2022-10-01 | organic  | job_seekers    | jakarta  | 23 | 32 |\n",
       "| 259 | 2022-08-27 | 2022-08-29 | 2022-09-10 | inbound  | job_seekers    | semarang | 29 | 14 |\n",
       "| 207 | 2022-08-28 | 2022-09-16 | 2022-09-24 | organic  | worker         | semarang | 22 | 27 |\n",
       "| 155 | 2022-08-31 | 2022-09-06 | 2022-09-13 | referral | fresh_graduate | semarang | 22 | 13 |\n",
       "| 131 | 2022-08-28 | 2022-08-30 | 2022-09-02 | inbound  | job_seekers    | surabaya | 29 |  5 |\n",
       "\n"
      ],
      "text/plain": [
       "  user_id first_contact checkout_date paid_date  channel  occupation    \n",
       "1 297     2022-08-07    2022-08-17    2022-08-19 referral worker        \n",
       "2 197     2022-08-30    2022-09-13    2022-10-01 organic  job_seekers   \n",
       "3 259     2022-08-27    2022-08-29    2022-09-10 inbound  job_seekers   \n",
       "4 207     2022-08-28    2022-09-16    2022-09-24 organic  worker        \n",
       "5 155     2022-08-31    2022-09-06    2022-09-13 referral fresh_graduate\n",
       "6 131     2022-08-28    2022-08-30    2022-09-02 inbound  job_seekers   \n",
       "  city     age lead_time_in_days\n",
       "1 bandung  33  12               \n",
       "2 jakarta  23  32               \n",
       "3 semarang 29  14               \n",
       "4 semarang 22  27               \n",
       "5 semarang 22  13               \n",
       "6 surabaya 29   5               "
      ]
     },
     "metadata": {},
     "output_type": "display_data"
    }
   ],
   "source": [
    "head(data)"
   ]
  },
  {
   "cell_type": "code",
   "execution_count": 16,
   "id": "68da80e2",
   "metadata": {},
   "outputs": [],
   "source": [
    "city_lookup <- data.frame(\n",
    "  city = c(\"surabaya\", \"bandung\", \"jakarta\", \"semarang\"),\n",
    "  latitude = c(-7.250445, -6.914864, -6.2, -6.966667),\n",
    "  longitude = c(112.768845, 107.608238, 106.816666, 110.416664)\n",
    ")"
   ]
  },
  {
   "cell_type": "code",
   "execution_count": 17,
   "id": "d53310cd",
   "metadata": {},
   "outputs": [],
   "source": [
    "data <- merge(data, city_lookup, by = \"city\", all.x = TRUE)"
   ]
  },
  {
   "cell_type": "code",
   "execution_count": 18,
   "id": "a75983fd",
   "metadata": {},
   "outputs": [],
   "source": [
    "data <- data %>%\n",
    "  select(user_id, first_contact, checkout_date, paid_date, channel, occupation, city, everything())"
   ]
  },
  {
   "cell_type": "code",
   "execution_count": 19,
   "id": "46d5bb48",
   "metadata": {},
   "outputs": [
    {
     "data": {
      "text/html": [
       "<table class=\"dataframe\">\n",
       "<caption>A data.frame: 6 × 11</caption>\n",
       "<thead>\n",
       "\t<tr><th></th><th scope=col>user_id</th><th scope=col>first_contact</th><th scope=col>checkout_date</th><th scope=col>paid_date</th><th scope=col>channel</th><th scope=col>occupation</th><th scope=col>city</th><th scope=col>age</th><th scope=col>lead_time_in_days</th><th scope=col>latitude</th><th scope=col>longitude</th></tr>\n",
       "\t<tr><th></th><th scope=col>&lt;chr&gt;</th><th scope=col>&lt;date&gt;</th><th scope=col>&lt;date&gt;</th><th scope=col>&lt;date&gt;</th><th scope=col>&lt;fct&gt;</th><th scope=col>&lt;fct&gt;</th><th scope=col>&lt;fct&gt;</th><th scope=col>&lt;int&gt;</th><th scope=col>&lt;int&gt;</th><th scope=col>&lt;dbl&gt;</th><th scope=col>&lt;dbl&gt;</th></tr>\n",
       "</thead>\n",
       "<tbody>\n",
       "\t<tr><th scope=row>1</th><td>297</td><td>2022-08-07</td><td>2022-08-17</td><td>2022-08-19</td><td>referral        </td><td>worker        </td><td>bandung</td><td>33</td><td>12</td><td>-6.914864</td><td>107.6082</td></tr>\n",
       "\t<tr><th scope=row>2</th><td>125</td><td>2022-08-12</td><td>2022-08-25</td><td>2022-09-12</td><td>referral        </td><td>fresh_graduate</td><td>bandung</td><td>24</td><td>31</td><td>-6.914864</td><td>107.6082</td></tr>\n",
       "\t<tr><th scope=row>3</th><td>199</td><td>2022-08-27</td><td>2022-09-06</td><td>2022-09-10</td><td>digital_festival</td><td>fresh_graduate</td><td>bandung</td><td>23</td><td>14</td><td>-6.914864</td><td>107.6082</td></tr>\n",
       "\t<tr><th scope=row>4</th><td>139</td><td>2022-08-10</td><td>2022-08-31</td><td>2022-09-21</td><td>organic         </td><td>fresh_graduate</td><td>bandung</td><td>22</td><td>42</td><td>-6.914864</td><td>107.6082</td></tr>\n",
       "\t<tr><th scope=row>5</th><td>125</td><td>2022-08-19</td><td>2022-08-29</td><td>2022-09-09</td><td>digital_festival</td><td>student       </td><td>bandung</td><td>19</td><td>21</td><td>-6.914864</td><td>107.6082</td></tr>\n",
       "\t<tr><th scope=row>6</th><td>244</td><td>2022-08-07</td><td>2022-08-15</td><td>2022-08-23</td><td>digital_festival</td><td>student       </td><td>bandung</td><td>19</td><td>16</td><td>-6.914864</td><td>107.6082</td></tr>\n",
       "</tbody>\n",
       "</table>\n"
      ],
      "text/latex": [
       "A data.frame: 6 × 11\n",
       "\\begin{tabular}{r|lllllllllll}\n",
       "  & user\\_id & first\\_contact & checkout\\_date & paid\\_date & channel & occupation & city & age & lead\\_time\\_in\\_days & latitude & longitude\\\\\n",
       "  & <chr> & <date> & <date> & <date> & <fct> & <fct> & <fct> & <int> & <int> & <dbl> & <dbl>\\\\\n",
       "\\hline\n",
       "\t1 & 297 & 2022-08-07 & 2022-08-17 & 2022-08-19 & referral         & worker         & bandung & 33 & 12 & -6.914864 & 107.6082\\\\\n",
       "\t2 & 125 & 2022-08-12 & 2022-08-25 & 2022-09-12 & referral         & fresh\\_graduate & bandung & 24 & 31 & -6.914864 & 107.6082\\\\\n",
       "\t3 & 199 & 2022-08-27 & 2022-09-06 & 2022-09-10 & digital\\_festival & fresh\\_graduate & bandung & 23 & 14 & -6.914864 & 107.6082\\\\\n",
       "\t4 & 139 & 2022-08-10 & 2022-08-31 & 2022-09-21 & organic          & fresh\\_graduate & bandung & 22 & 42 & -6.914864 & 107.6082\\\\\n",
       "\t5 & 125 & 2022-08-19 & 2022-08-29 & 2022-09-09 & digital\\_festival & student        & bandung & 19 & 21 & -6.914864 & 107.6082\\\\\n",
       "\t6 & 244 & 2022-08-07 & 2022-08-15 & 2022-08-23 & digital\\_festival & student        & bandung & 19 & 16 & -6.914864 & 107.6082\\\\\n",
       "\\end{tabular}\n"
      ],
      "text/markdown": [
       "\n",
       "A data.frame: 6 × 11\n",
       "\n",
       "| <!--/--> | user_id &lt;chr&gt; | first_contact &lt;date&gt; | checkout_date &lt;date&gt; | paid_date &lt;date&gt; | channel &lt;fct&gt; | occupation &lt;fct&gt; | city &lt;fct&gt; | age &lt;int&gt; | lead_time_in_days &lt;int&gt; | latitude &lt;dbl&gt; | longitude &lt;dbl&gt; |\n",
       "|---|---|---|---|---|---|---|---|---|---|---|---|\n",
       "| 1 | 297 | 2022-08-07 | 2022-08-17 | 2022-08-19 | referral         | worker         | bandung | 33 | 12 | -6.914864 | 107.6082 |\n",
       "| 2 | 125 | 2022-08-12 | 2022-08-25 | 2022-09-12 | referral         | fresh_graduate | bandung | 24 | 31 | -6.914864 | 107.6082 |\n",
       "| 3 | 199 | 2022-08-27 | 2022-09-06 | 2022-09-10 | digital_festival | fresh_graduate | bandung | 23 | 14 | -6.914864 | 107.6082 |\n",
       "| 4 | 139 | 2022-08-10 | 2022-08-31 | 2022-09-21 | organic          | fresh_graduate | bandung | 22 | 42 | -6.914864 | 107.6082 |\n",
       "| 5 | 125 | 2022-08-19 | 2022-08-29 | 2022-09-09 | digital_festival | student        | bandung | 19 | 21 | -6.914864 | 107.6082 |\n",
       "| 6 | 244 | 2022-08-07 | 2022-08-15 | 2022-08-23 | digital_festival | student        | bandung | 19 | 16 | -6.914864 | 107.6082 |\n",
       "\n"
      ],
      "text/plain": [
       "  user_id first_contact checkout_date paid_date  channel         \n",
       "1 297     2022-08-07    2022-08-17    2022-08-19 referral        \n",
       "2 125     2022-08-12    2022-08-25    2022-09-12 referral        \n",
       "3 199     2022-08-27    2022-09-06    2022-09-10 digital_festival\n",
       "4 139     2022-08-10    2022-08-31    2022-09-21 organic         \n",
       "5 125     2022-08-19    2022-08-29    2022-09-09 digital_festival\n",
       "6 244     2022-08-07    2022-08-15    2022-08-23 digital_festival\n",
       "  occupation     city    age lead_time_in_days latitude  longitude\n",
       "1 worker         bandung 33  12                -6.914864 107.6082 \n",
       "2 fresh_graduate bandung 24  31                -6.914864 107.6082 \n",
       "3 fresh_graduate bandung 23  14                -6.914864 107.6082 \n",
       "4 fresh_graduate bandung 22  42                -6.914864 107.6082 \n",
       "5 student        bandung 19  21                -6.914864 107.6082 \n",
       "6 student        bandung 19  16                -6.914864 107.6082 "
      ]
     },
     "metadata": {},
     "output_type": "display_data"
    }
   ],
   "source": [
    "head(data)"
   ]
  },
  {
   "cell_type": "code",
   "execution_count": 20,
   "id": "c9b78104",
   "metadata": {
    "scrolled": true
   },
   "outputs": [
    {
     "data": {
      "text/html": [
       "<style>\n",
       ".list-inline {list-style: none; margin:0; padding: 0}\n",
       ".list-inline>li {display: inline-block}\n",
       ".list-inline>li:not(:last-child)::after {content: \"\\00b7\"; padding: 0 .5ex}\n",
       "</style>\n",
       "<ol class=list-inline><li>100</li><li>11</li></ol>\n"
      ],
      "text/latex": [
       "\\begin{enumerate*}\n",
       "\\item 100\n",
       "\\item 11\n",
       "\\end{enumerate*}\n"
      ],
      "text/markdown": [
       "1. 100\n",
       "2. 11\n",
       "\n",
       "\n"
      ],
      "text/plain": [
       "[1] 100  11"
      ]
     },
     "metadata": {},
     "output_type": "display_data"
    }
   ],
   "source": [
    "dim(data)"
   ]
  },
  {
   "cell_type": "markdown",
   "id": "8ed73688",
   "metadata": {},
   "source": [
    "<div id=\"splittingtraintest\">\n",
    "    <div style=\"font-size:20pt;font-weight:700;padding:20px 0;line-height:1.2\">4.8 Splitting the Dataset into Training and Test Sets</div>\n",
    "    <div style=\"text-align: right;\"><a href=\"#toc\" style=\"text-decoration:none;\">↑ Table of Contents</a></div>\n",
    "</div>"
   ]
  },
  {
   "cell_type": "code",
   "execution_count": 21,
   "id": "a2458024",
   "metadata": {},
   "outputs": [],
   "source": [
    "set.seed(1234)\n",
    "data_split <- initial_split(data, prop = 0.8)\n",
    "train <- training(data_split)\n",
    "test <- testing(data_split)"
   ]
  },
  {
   "cell_type": "code",
   "execution_count": 22,
   "id": "b960632b",
   "metadata": {},
   "outputs": [
    {
     "name": "stdout",
     "output_type": "stream",
     "text": [
      "Data shape: 100x11 \n",
      "Train shape: 80x11 \n",
      "Test shape: 20x11 \n"
     ]
    }
   ],
   "source": [
    "cat(\"Data shape:\", paste(dim(data), collapse = \"x\"), \"\\n\")\n",
    "cat(\"Train shape:\", paste(dim(train), collapse = \"x\"), \"\\n\")\n",
    "cat(\"Test shape:\", paste(dim(test), collapse = \"x\"), \"\\n\")"
   ]
  },
  {
   "cell_type": "markdown",
   "id": "f93d1da7",
   "metadata": {},
   "source": [
    "<div id=\"outliers\">\n",
    "    <div style=\"font-size:20pt;font-weight:700;padding:20px 0;line-height:1.2\">4.9 Detecting and Handling Outliers</div>\n",
    "    <div style=\"text-align: right;\"><a href=\"#toc\" style=\"text-decoration:none;\">↑ Table of Contents</a></div>\n",
    "</div>"
   ]
  },
  {
   "cell_type": "code",
   "execution_count": 23,
   "id": "68d4f10d",
   "metadata": {},
   "outputs": [
    {
     "data": {
      "text/html": [
       "<table class=\"dataframe\">\n",
       "<caption>A data.frame: 1 × 11</caption>\n",
       "<thead>\n",
       "\t<tr><th></th><th scope=col>user_id</th><th scope=col>first_contact</th><th scope=col>checkout_date</th><th scope=col>paid_date</th><th scope=col>channel</th><th scope=col>occupation</th><th scope=col>city</th><th scope=col>age</th><th scope=col>lead_time_in_days</th><th scope=col>latitude</th><th scope=col>longitude</th></tr>\n",
       "\t<tr><th></th><th scope=col>&lt;chr&gt;</th><th scope=col>&lt;date&gt;</th><th scope=col>&lt;date&gt;</th><th scope=col>&lt;date&gt;</th><th scope=col>&lt;fct&gt;</th><th scope=col>&lt;fct&gt;</th><th scope=col>&lt;fct&gt;</th><th scope=col>&lt;int&gt;</th><th scope=col>&lt;int&gt;</th><th scope=col>&lt;dbl&gt;</th><th scope=col>&lt;dbl&gt;</th></tr>\n",
       "</thead>\n",
       "<tbody>\n",
       "\t<tr><th scope=row>1</th><td>297</td><td>2022-08-07</td><td>2022-08-17</td><td>2022-08-19</td><td>referral</td><td>worker</td><td>bandung</td><td>33</td><td>12</td><td>-6.914864</td><td>107.6082</td></tr>\n",
       "</tbody>\n",
       "</table>\n"
      ],
      "text/latex": [
       "A data.frame: 1 × 11\n",
       "\\begin{tabular}{r|lllllllllll}\n",
       "  & user\\_id & first\\_contact & checkout\\_date & paid\\_date & channel & occupation & city & age & lead\\_time\\_in\\_days & latitude & longitude\\\\\n",
       "  & <chr> & <date> & <date> & <date> & <fct> & <fct> & <fct> & <int> & <int> & <dbl> & <dbl>\\\\\n",
       "\\hline\n",
       "\t1 & 297 & 2022-08-07 & 2022-08-17 & 2022-08-19 & referral & worker & bandung & 33 & 12 & -6.914864 & 107.6082\\\\\n",
       "\\end{tabular}\n"
      ],
      "text/markdown": [
       "\n",
       "A data.frame: 1 × 11\n",
       "\n",
       "| <!--/--> | user_id &lt;chr&gt; | first_contact &lt;date&gt; | checkout_date &lt;date&gt; | paid_date &lt;date&gt; | channel &lt;fct&gt; | occupation &lt;fct&gt; | city &lt;fct&gt; | age &lt;int&gt; | lead_time_in_days &lt;int&gt; | latitude &lt;dbl&gt; | longitude &lt;dbl&gt; |\n",
       "|---|---|---|---|---|---|---|---|---|---|---|---|\n",
       "| 1 | 297 | 2022-08-07 | 2022-08-17 | 2022-08-19 | referral | worker | bandung | 33 | 12 | -6.914864 | 107.6082 |\n",
       "\n"
      ],
      "text/plain": [
       "  user_id first_contact checkout_date paid_date  channel  occupation city   \n",
       "1 297     2022-08-07    2022-08-17    2022-08-19 referral worker     bandung\n",
       "  age lead_time_in_days latitude  longitude\n",
       "1 33  12                -6.914864 107.6082 "
      ]
     },
     "metadata": {},
     "output_type": "display_data"
    }
   ],
   "source": [
    "head(data, 1)"
   ]
  },
  {
   "cell_type": "code",
   "execution_count": 24,
   "id": "b691f914",
   "metadata": {},
   "outputs": [],
   "source": [
    "# options(repr.plot.width = NULL, repr.plot.height = NULL)\n",
    "options(repr.plot.width = 9, repr.plot.height = 5)"
   ]
  },
  {
   "cell_type": "code",
   "execution_count": 25,
   "id": "9902b509",
   "metadata": {},
   "outputs": [
    {
     "data": {
      "image/png": "[encoded data removed]",
      "text/plain": [
       "plot without title"
      ]
     },
     "metadata": {
      "image/png": {
       "height": 500,
       "width": 900
      }
     },
     "output_type": "display_data"
    }
   ],
   "source": [
    "p <- ggplot(train, aes(x = age)) + \n",
    "  geom_boxplot()\n",
    "\n",
    "p + \n",
    "  labs(\n",
    "    title = \"Distribution of Age in Train data\",\n",
    "    x = \"Age\",\n",
    "    y = \"Value\"\n",
    "  ) +\n",
    "  theme(\n",
    "    plot.title = element_text(size = 16, face = \"bold\", hjust = 0.5)\n",
    "  ) "
   ]
  },
  {
   "cell_type": "code",
   "execution_count": 26,
   "id": "2d5d69a5",
   "metadata": {},
   "outputs": [
    {
     "data": {
      "text/html": [
       "<table class=\"dataframe\">\n",
       "<caption>A data.frame: 3 × 11</caption>\n",
       "<thead>\n",
       "\t<tr><th scope=col>user_id</th><th scope=col>first_contact</th><th scope=col>checkout_date</th><th scope=col>paid_date</th><th scope=col>channel</th><th scope=col>occupation</th><th scope=col>city</th><th scope=col>age</th><th scope=col>lead_time_in_days</th><th scope=col>latitude</th><th scope=col>longitude</th></tr>\n",
       "\t<tr><th scope=col>&lt;chr&gt;</th><th scope=col>&lt;date&gt;</th><th scope=col>&lt;date&gt;</th><th scope=col>&lt;date&gt;</th><th scope=col>&lt;fct&gt;</th><th scope=col>&lt;fct&gt;</th><th scope=col>&lt;fct&gt;</th><th scope=col>&lt;int&gt;</th><th scope=col>&lt;int&gt;</th><th scope=col>&lt;dbl&gt;</th><th scope=col>&lt;dbl&gt;</th></tr>\n",
       "</thead>\n",
       "<tbody>\n",
       "\t<tr><td>218</td><td>2022-08-14</td><td>2022-08-23</td><td>2022-09-09</td><td>digital_festival</td><td>worker</td><td>surabaya</td><td>34</td><td>26</td><td>-7.250445</td><td>112.7688</td></tr>\n",
       "\t<tr><td>220</td><td>2022-08-06</td><td>2022-08-21</td><td>2022-08-31</td><td>digital_festival</td><td>worker</td><td>semarang</td><td>33</td><td>25</td><td>-6.966667</td><td>110.4167</td></tr>\n",
       "\t<tr><td>297</td><td>2022-08-07</td><td>2022-08-17</td><td>2022-08-19</td><td>referral        </td><td>worker</td><td>bandung </td><td>33</td><td>12</td><td>-6.914864</td><td>107.6082</td></tr>\n",
       "</tbody>\n",
       "</table>\n"
      ],
      "text/latex": [
       "A data.frame: 3 × 11\n",
       "\\begin{tabular}{lllllllllll}\n",
       " user\\_id & first\\_contact & checkout\\_date & paid\\_date & channel & occupation & city & age & lead\\_time\\_in\\_days & latitude & longitude\\\\\n",
       " <chr> & <date> & <date> & <date> & <fct> & <fct> & <fct> & <int> & <int> & <dbl> & <dbl>\\\\\n",
       "\\hline\n",
       "\t 218 & 2022-08-14 & 2022-08-23 & 2022-09-09 & digital\\_festival & worker & surabaya & 34 & 26 & -7.250445 & 112.7688\\\\\n",
       "\t 220 & 2022-08-06 & 2022-08-21 & 2022-08-31 & digital\\_festival & worker & semarang & 33 & 25 & -6.966667 & 110.4167\\\\\n",
       "\t 297 & 2022-08-07 & 2022-08-17 & 2022-08-19 & referral         & worker & bandung  & 33 & 12 & -6.914864 & 107.6082\\\\\n",
       "\\end{tabular}\n"
      ],
      "text/markdown": [
       "\n",
       "A data.frame: 3 × 11\n",
       "\n",
       "| user_id &lt;chr&gt; | first_contact &lt;date&gt; | checkout_date &lt;date&gt; | paid_date &lt;date&gt; | channel &lt;fct&gt; | occupation &lt;fct&gt; | city &lt;fct&gt; | age &lt;int&gt; | lead_time_in_days &lt;int&gt; | latitude &lt;dbl&gt; | longitude &lt;dbl&gt; |\n",
       "|---|---|---|---|---|---|---|---|---|---|---|\n",
       "| 218 | 2022-08-14 | 2022-08-23 | 2022-09-09 | digital_festival | worker | surabaya | 34 | 26 | -7.250445 | 112.7688 |\n",
       "| 220 | 2022-08-06 | 2022-08-21 | 2022-08-31 | digital_festival | worker | semarang | 33 | 25 | -6.966667 | 110.4167 |\n",
       "| 297 | 2022-08-07 | 2022-08-17 | 2022-08-19 | referral         | worker | bandung  | 33 | 12 | -6.914864 | 107.6082 |\n",
       "\n"
      ],
      "text/plain": [
       "  user_id first_contact checkout_date paid_date  channel          occupation\n",
       "1 218     2022-08-14    2022-08-23    2022-09-09 digital_festival worker    \n",
       "2 220     2022-08-06    2022-08-21    2022-08-31 digital_festival worker    \n",
       "3 297     2022-08-07    2022-08-17    2022-08-19 referral         worker    \n",
       "  city     age lead_time_in_days latitude  longitude\n",
       "1 surabaya 34  26                -7.250445 112.7688 \n",
       "2 semarang 33  25                -6.966667 110.4167 \n",
       "3 bandung  33  12                -6.914864 107.6082 "
      ]
     },
     "metadata": {},
     "output_type": "display_data"
    }
   ],
   "source": [
    "train %>%\n",
    "    filter(age > 32)"
   ]
  },
  {
   "cell_type": "code",
   "execution_count": 27,
   "id": "2f13e5f9",
   "metadata": {
    "scrolled": false
   },
   "outputs": [
    {
     "data": {
      "image/png": "[encoded data removed]",
      "text/plain": [
       "plot without title"
      ]
     },
     "metadata": {
      "image/png": {
       "height": 500,
       "width": 900
      }
     },
     "output_type": "display_data"
    }
   ],
   "source": [
    "q <- ggplot(test, aes(x = age)) + \n",
    "  geom_boxplot()\n",
    "\n",
    "q + \n",
    "  labs(\n",
    "    title = \"Distribution of Age in Test Data\",\n",
    "    x = \"Age\",\n",
    "    y = \"Value\"\n",
    "  ) +\n",
    "  theme(\n",
    "    plot.title = element_text(size = 16, face = \"bold\", hjust = 0.5)\n",
    "  ) "
   ]
  },
  {
   "cell_type": "markdown",
   "id": "d42f5f23",
   "metadata": {},
   "source": [
    "<div id=\"dropsavecols\">\n",
    "    <div style=\"font-size:20pt;font-weight:700;padding:20px 0;line-height:1.2\">4.10 Dropping and Saving Columns</div>\n",
    "    <div style=\"text-align: right;\"><a href=\"#toc\" style=\"text-decoration:none;\">↑ Table of Contents</a></div>\n",
    "</div>"
   ]
  },
  {
   "cell_type": "code",
   "execution_count": 28,
   "id": "8ad9c949",
   "metadata": {},
   "outputs": [
    {
     "data": {
      "text/html": [
       "<style>\n",
       ".list-inline {list-style: none; margin:0; padding: 0}\n",
       ".list-inline>li {display: inline-block}\n",
       ".list-inline>li:not(:last-child)::after {content: \"\\00b7\"; padding: 0 .5ex}\n",
       "</style>\n",
       "<ol class=list-inline><li>100</li><li>11</li></ol>\n"
      ],
      "text/latex": [
       "\\begin{enumerate*}\n",
       "\\item 100\n",
       "\\item 11\n",
       "\\end{enumerate*}\n"
      ],
      "text/markdown": [
       "1. 100\n",
       "2. 11\n",
       "\n",
       "\n"
      ],
      "text/plain": [
       "[1] 100  11"
      ]
     },
     "metadata": {},
     "output_type": "display_data"
    }
   ],
   "source": [
    "cleaned_data <- rbind(train, test)\n",
    "dim(cleaned_data)"
   ]
  },
  {
   "cell_type": "code",
   "execution_count": 29,
   "id": "870e9320",
   "metadata": {},
   "outputs": [],
   "source": [
    "write_csv(cleaned_data, \"cleaned_data.csv\")"
   ]
  },
  {
   "cell_type": "markdown",
   "id": "40a8868d",
   "metadata": {},
   "source": [
    "---"
   ]
  },
  {
   "cell_type": "code",
   "execution_count": 30,
   "id": "ba5ac855",
   "metadata": {},
   "outputs": [
    {
     "data": {
      "text/html": [
       "<table class=\"dataframe\">\n",
       "<caption>A data.frame: 1 × 11</caption>\n",
       "<thead>\n",
       "\t<tr><th></th><th scope=col>user_id</th><th scope=col>first_contact</th><th scope=col>checkout_date</th><th scope=col>paid_date</th><th scope=col>channel</th><th scope=col>occupation</th><th scope=col>city</th><th scope=col>age</th><th scope=col>lead_time_in_days</th><th scope=col>latitude</th><th scope=col>longitude</th></tr>\n",
       "\t<tr><th></th><th scope=col>&lt;chr&gt;</th><th scope=col>&lt;date&gt;</th><th scope=col>&lt;date&gt;</th><th scope=col>&lt;date&gt;</th><th scope=col>&lt;fct&gt;</th><th scope=col>&lt;fct&gt;</th><th scope=col>&lt;fct&gt;</th><th scope=col>&lt;int&gt;</th><th scope=col>&lt;int&gt;</th><th scope=col>&lt;dbl&gt;</th><th scope=col>&lt;dbl&gt;</th></tr>\n",
       "</thead>\n",
       "<tbody>\n",
       "\t<tr><th scope=row>1</th><td>197</td><td>2022-08-30</td><td>2022-09-13</td><td>2022-10-01</td><td>organic</td><td>job_seekers</td><td>jakarta</td><td>23</td><td>32</td><td>-6.2</td><td>106.8167</td></tr>\n",
       "</tbody>\n",
       "</table>\n"
      ],
      "text/latex": [
       "A data.frame: 1 × 11\n",
       "\\begin{tabular}{r|lllllllllll}\n",
       "  & user\\_id & first\\_contact & checkout\\_date & paid\\_date & channel & occupation & city & age & lead\\_time\\_in\\_days & latitude & longitude\\\\\n",
       "  & <chr> & <date> & <date> & <date> & <fct> & <fct> & <fct> & <int> & <int> & <dbl> & <dbl>\\\\\n",
       "\\hline\n",
       "\t1 & 197 & 2022-08-30 & 2022-09-13 & 2022-10-01 & organic & job\\_seekers & jakarta & 23 & 32 & -6.2 & 106.8167\\\\\n",
       "\\end{tabular}\n"
      ],
      "text/markdown": [
       "\n",
       "A data.frame: 1 × 11\n",
       "\n",
       "| <!--/--> | user_id &lt;chr&gt; | first_contact &lt;date&gt; | checkout_date &lt;date&gt; | paid_date &lt;date&gt; | channel &lt;fct&gt; | occupation &lt;fct&gt; | city &lt;fct&gt; | age &lt;int&gt; | lead_time_in_days &lt;int&gt; | latitude &lt;dbl&gt; | longitude &lt;dbl&gt; |\n",
       "|---|---|---|---|---|---|---|---|---|---|---|---|\n",
       "| 1 | 197 | 2022-08-30 | 2022-09-13 | 2022-10-01 | organic | job_seekers | jakarta | 23 | 32 | -6.2 | 106.8167 |\n",
       "\n"
      ],
      "text/plain": [
       "  user_id first_contact checkout_date paid_date  channel occupation  city   \n",
       "1 197     2022-08-30    2022-09-13    2022-10-01 organic job_seekers jakarta\n",
       "  age lead_time_in_days latitude longitude\n",
       "1 23  32                -6.2     106.8167 "
      ]
     },
     "metadata": {},
     "output_type": "display_data"
    }
   ],
   "source": [
    "head(train, 1)"
   ]
  },
  {
   "cell_type": "code",
   "execution_count": 31,
   "id": "14d789d7",
   "metadata": {},
   "outputs": [],
   "source": [
    "train <- train[, -c(1,2,3,4,10,11)]\n",
    "test <- test[, -c(1,2,3,4,10,11)]"
   ]
  },
  {
   "cell_type": "code",
   "execution_count": 32,
   "id": "918d4956",
   "metadata": {},
   "outputs": [
    {
     "name": "stdout",
     "output_type": "stream",
     "text": [
      "Train shape: 80x5 \n",
      "Test shape: 20x5 \n"
     ]
    }
   ],
   "source": [
    "cat(\"Train shape:\", paste(dim(train), collapse = \"x\"), \"\\n\")\n",
    "cat(\"Test shape:\", paste(dim(test), collapse = \"x\"), \"\\n\")"
   ]
  },
  {
   "cell_type": "code",
   "execution_count": 33,
   "id": "719be73b",
   "metadata": {},
   "outputs": [
    {
     "data": {
      "text/html": [
       "<table class=\"dataframe\">\n",
       "<caption>A data.frame: 1 × 5</caption>\n",
       "<thead>\n",
       "\t<tr><th></th><th scope=col>channel</th><th scope=col>occupation</th><th scope=col>city</th><th scope=col>age</th><th scope=col>lead_time_in_days</th></tr>\n",
       "\t<tr><th></th><th scope=col>&lt;fct&gt;</th><th scope=col>&lt;fct&gt;</th><th scope=col>&lt;fct&gt;</th><th scope=col>&lt;int&gt;</th><th scope=col>&lt;int&gt;</th></tr>\n",
       "</thead>\n",
       "<tbody>\n",
       "\t<tr><th scope=row>1</th><td>organic</td><td>job_seekers</td><td>jakarta</td><td>23</td><td>32</td></tr>\n",
       "</tbody>\n",
       "</table>\n"
      ],
      "text/latex": [
       "A data.frame: 1 × 5\n",
       "\\begin{tabular}{r|lllll}\n",
       "  & channel & occupation & city & age & lead\\_time\\_in\\_days\\\\\n",
       "  & <fct> & <fct> & <fct> & <int> & <int>\\\\\n",
       "\\hline\n",
       "\t1 & organic & job\\_seekers & jakarta & 23 & 32\\\\\n",
       "\\end{tabular}\n"
      ],
      "text/markdown": [
       "\n",
       "A data.frame: 1 × 5\n",
       "\n",
       "| <!--/--> | channel &lt;fct&gt; | occupation &lt;fct&gt; | city &lt;fct&gt; | age &lt;int&gt; | lead_time_in_days &lt;int&gt; |\n",
       "|---|---|---|---|---|---|\n",
       "| 1 | organic | job_seekers | jakarta | 23 | 32 |\n",
       "\n"
      ],
      "text/plain": [
       "  channel occupation  city    age lead_time_in_days\n",
       "1 organic job_seekers jakarta 23  32               "
      ]
     },
     "metadata": {},
     "output_type": "display_data"
    }
   ],
   "source": [
    "head(train, 1)"
   ]
  },
  {
   "cell_type": "code",
   "execution_count": 34,
   "id": "d1863ddf",
   "metadata": {},
   "outputs": [
    {
     "data": {
      "text/html": [
       "<table class=\"dataframe\">\n",
       "<caption>A data.frame: 1 × 5</caption>\n",
       "<thead>\n",
       "\t<tr><th></th><th scope=col>channel</th><th scope=col>occupation</th><th scope=col>city</th><th scope=col>age</th><th scope=col>lead_time_in_days</th></tr>\n",
       "\t<tr><th></th><th scope=col>&lt;fct&gt;</th><th scope=col>&lt;fct&gt;</th><th scope=col>&lt;fct&gt;</th><th scope=col>&lt;int&gt;</th><th scope=col>&lt;int&gt;</th></tr>\n",
       "</thead>\n",
       "<tbody>\n",
       "\t<tr><th scope=row>1</th><td>referral</td><td>student</td><td>bandung</td><td>22</td><td>32</td></tr>\n",
       "</tbody>\n",
       "</table>\n"
      ],
      "text/latex": [
       "A data.frame: 1 × 5\n",
       "\\begin{tabular}{r|lllll}\n",
       "  & channel & occupation & city & age & lead\\_time\\_in\\_days\\\\\n",
       "  & <fct> & <fct> & <fct> & <int> & <int>\\\\\n",
       "\\hline\n",
       "\t1 & referral & student & bandung & 22 & 32\\\\\n",
       "\\end{tabular}\n"
      ],
      "text/markdown": [
       "\n",
       "A data.frame: 1 × 5\n",
       "\n",
       "| <!--/--> | channel &lt;fct&gt; | occupation &lt;fct&gt; | city &lt;fct&gt; | age &lt;int&gt; | lead_time_in_days &lt;int&gt; |\n",
       "|---|---|---|---|---|---|\n",
       "| 1 | referral | student | bandung | 22 | 32 |\n",
       "\n"
      ],
      "text/plain": [
       "  channel  occupation city    age lead_time_in_days\n",
       "1 referral student    bandung 22  32               "
      ]
     },
     "metadata": {},
     "output_type": "display_data"
    }
   ],
   "source": [
    "head(test, 1)"
   ]
  },
  {
   "cell_type": "markdown",
   "id": "ec0a12a3",
   "metadata": {},
   "source": [
    "<div id=\"five\">\n",
    "    <div style=\"font-size:25pt;color:red;font-weight:700;padding:20px 0;line-height:1.2\">5. Exploratory Data Analysis (EDA) and Data Visualization</div>\n",
    "    <div style=\"text-align: right;\"><a href=\"#toc\" style=\"text-decoration:none;\">↑ Table of Contents</a></div>\n",
    "</div>"
   ]
  },
  {
   "cell_type": "markdown",
   "id": "f959b8ae",
   "metadata": {},
   "source": [
    "<div id=\"edadist\">\n",
    "    <div style=\"font-size:20pt;font-weight:700;padding:20px 0;line-height:1.2\">5.1 Analyzing Numerical Distribution</div>\n",
    "    <div style=\"text-align: right;\"><a href=\"#toc\" style=\"text-decoration:none;\">↑ Table of Contents</a></div>\n",
    "</div>"
   ]
  },
  {
   "cell_type": "code",
   "execution_count": 35,
   "id": "bf0e30e3",
   "metadata": {},
   "outputs": [],
   "source": [
    "# min(train$age);max(train$age)\n",
    "# min(train$lead_time_in_days);max(train$lead_time_in_days)"
   ]
  },
  {
   "cell_type": "code",
   "execution_count": 36,
   "id": "1774a5cb",
   "metadata": {},
   "outputs": [],
   "source": [
    "# options(repr.plot.width = NULL, repr.plot.height = NULL)\n",
    "# options(repr.plot.width = 9, repr.plot.height = 5)"
   ]
  },
  {
   "cell_type": "code",
   "execution_count": 37,
   "id": "dfe56730",
   "metadata": {},
   "outputs": [
    {
     "data": {
      "image/png": "[encoded data removed]",
      "text/plain": [
       "plot without title"
      ]
     },
     "metadata": {
      "image/png": {
       "height": 500,
       "width": 900
      }
     },
     "output_type": "display_data"
    }
   ],
   "source": [
    "plot1 <- ggplot(train, aes(x = age, fill = after_stat(count))) +\n",
    "  geom_bar() +\n",
    "  labs(x = \"Age Bins\", y = \"Frequency\") +\n",
    "  theme_minimal() +\n",
    "  theme(legend.position = \"none\") +\n",
    "  scale_fill_gradient(low = \"#e6f9ff\", high = \"#0099cc\") +\n",
    "  guides(fill = none) +\n",
    "  scale_x_continuous(\n",
    "    breaks = seq(18, 34, by = 1),\n",
    "    labels = seq(18, 34, by = 1)\n",
    "  ) +\n",
    "  scale_y_continuous(\n",
    "    breaks = seq(0, 15, by = 1),\n",
    "    labels = seq(0, 15, by = 1)\n",
    "  )\n",
    "\n",
    "age_plot <- train %>%\n",
    "  group_by(age = as.factor(age)) %>%\n",
    "  reframe(avg_lead_time_in_days = round(mean(lead_time_in_days)))\n",
    "\n",
    "plot2 <- ggplot(age_plot, aes(x = age, y = avg_lead_time_in_days)) +\n",
    "  geom_point(aes(color = avg_lead_time_in_days), size = 4) +\n",
    "  labs(x = \"Age\", y = \"Average Lead Time in Days\") +\n",
    "  theme_minimal() +\n",
    "  theme(legend.position = \"none\") +\n",
    "  scale_y_continuous(\n",
    "    breaks = seq(0, 35, by = 4),\n",
    "    labels = seq(0, 35, by = 4)\n",
    "  ) + \n",
    "  scale_color_gradient(low = \"#FFCCCB\", high = \"#FF5733\")\n",
    "\n",
    "grid.arrange(plot1, plot2, ncol = 2)"
   ]
  },
  {
   "cell_type": "code",
   "execution_count": 38,
   "id": "e610aa8c",
   "metadata": {},
   "outputs": [
    {
     "data": {
      "image/png": "[encoded data removed]",
      "text/plain": [
       "plot without title"
      ]
     },
     "metadata": {
      "image/png": {
       "height": 500,
       "width": 900
      }
     },
     "output_type": "display_data"
    }
   ],
   "source": [
    "ggplot(train, aes(x = lead_time_in_days, fill = after_stat(count))) +\n",
    "  geom_bar() +\n",
    "  labs(x = \"Lead Time in Days\", y = \"Frequency\") +\n",
    "  theme_minimal() +\n",
    "  theme(legend.position = \"none\") +\n",
    "  scale_fill_gradient(low = \"#E5F5E0\", high = \"#31A354\") +\n",
    "  guides(fill = none) +\n",
    "  scale_x_continuous(\n",
    "    breaks = seq(1, 38, by = 1),\n",
    "    labels = seq(1, 38, by = 1)\n",
    "  ) "
   ]
  },
  {
   "cell_type": "markdown",
   "id": "137e042c",
   "metadata": {},
   "source": [
    "<div id=\"edaplothist\">\n",
    "    <div style=\"font-size:20pt;font-weight:700;padding:20px 0;line-height:1.2\">5.2 Plotting Bars of Selected Categorical Variables to Target Variable</div>\n",
    "    <div style=\"text-align: right;\"><a href=\"#toc\" style=\"text-decoration:none;\">↑ Table of Contents</a></div>\n",
    "</div>"
   ]
  },
  {
   "cell_type": "code",
   "execution_count": 39,
   "id": "be5f4811",
   "metadata": {},
   "outputs": [],
   "source": [
    "#options(repr.plot.width = NULL, repr.plot.height = NULL)\n",
    "#options(repr.plot.width = 9, repr.plot.height = 5)"
   ]
  },
  {
   "cell_type": "code",
   "execution_count": 40,
   "id": "ca9b1636",
   "metadata": {},
   "outputs": [
    {
     "data": {
      "image/png": "[encoded data removed]",
      "text/plain": [
       "plot without title"
      ]
     },
     "metadata": {
      "image/png": {
       "height": 500,
       "width": 900
      }
     },
     "output_type": "display_data"
    }
   ],
   "source": [
    "channel_sorted <- train %>%\n",
    "  group_by(channel) %>%\n",
    "  summarise(count = n()) %>%\n",
    "  arrange(desc(count))\n",
    "\n",
    "plot1 <- ggplot(channel_sorted, aes(x = reorder(channel, -count), y = count)) +\n",
    "  geom_bar(stat = \"identity\", fill = \"pink\") +\n",
    "  labs(x = \"Channel\", y = \"Frequency\") +\n",
    "  geom_text(aes(label = count), vjust = -0.5) + theme_classic()\n",
    "\n",
    "channel_plot <- train %>%\n",
    "  group_by(channel) %>%\n",
    "  reframe(avg_lead_time_in_days = round(mean(lead_time_in_days))) %>%\n",
    "  arrange(desc(avg_lead_time_in_days))\n",
    "\n",
    "plot2 <- ggplot(channel_plot, aes(x = reorder(channel, -avg_lead_time_in_days), y = avg_lead_time_in_days)) +\n",
    "  geom_bar(stat = \"identity\", fill = \"lightgreen\") +\n",
    "  labs(x = \"Channel\", y = \"Average Lead Time in Days\") +\n",
    "  geom_text(aes(label = avg_lead_time_in_days), vjust = -0.5) + theme_classic()\n",
    "\n",
    "grid.arrange(plot1, plot2, ncol = 2)"
   ]
  },
  {
   "cell_type": "code",
   "execution_count": 41,
   "id": "7619b679",
   "metadata": {},
   "outputs": [
    {
     "data": {
      "image/png": "[encoded data removed]",
      "text/plain": [
       "plot without title"
      ]
     },
     "metadata": {
      "image/png": {
       "height": 500,
       "width": 900
      }
     },
     "output_type": "display_data"
    }
   ],
   "source": [
    "occupation_sorted <- train %>%\n",
    "  group_by(occupation) %>%\n",
    "  summarise(count = n()) %>%\n",
    "  arrange(desc(count))\n",
    "\n",
    "plot1 <- ggplot(occupation_sorted, aes(x = reorder(occupation, -count), y = count)) +\n",
    "  geom_bar(stat = \"identity\", fill = \"#ADD8E6\") +\n",
    "  labs(x = \"Occupation\", y = \"Frequency\") +\n",
    "  geom_text(aes(label = count), vjust = -0.5) + theme_classic()\n",
    "\n",
    "occupation_plot <- train %>%\n",
    "  group_by(occupation) %>%\n",
    "  reframe(avg_lead_time_in_days = round(mean(lead_time_in_days))) %>%\n",
    "  arrange(desc(avg_lead_time_in_days))\n",
    "\n",
    "plot2 <- ggplot(occupation_plot, aes(x = reorder(occupation, -avg_lead_time_in_days), y = avg_lead_time_in_days)) +\n",
    "  geom_bar(stat = \"identity\", fill = \"#FFA07A\") +\n",
    "  labs(x = \"Occupation\", y = \"Average Lead Time in Days\") +\n",
    "  geom_text(aes(label = avg_lead_time_in_days), vjust = -0.5) + theme_classic()\n",
    "\n",
    "grid.arrange(plot1, plot2, ncol = 2)"
   ]
  },
  {
   "cell_type": "code",
   "execution_count": 42,
   "id": "caed7d0b",
   "metadata": {},
   "outputs": [
    {
     "data": {
      "image/png": "[encoded data removed]",
      "text/plain": [
       "plot without title"
      ]
     },
     "metadata": {
      "image/png": {
       "height": 500,
       "width": 900
      }
     },
     "output_type": "display_data"
    }
   ],
   "source": [
    "city_sorted <- train %>%\n",
    "  group_by(city) %>%\n",
    "  summarise(count = n()) %>%\n",
    "  arrange(desc(count))\n",
    "\n",
    "plot1 <- ggplot(city_sorted, aes(x = reorder(city, -count), y = count)) +\n",
    "  geom_bar(stat = \"identity\", fill = \"#7FFFD4\") +\n",
    "  labs(x = \"City\", y = \"Frequency\") +\n",
    "  geom_text(aes(label = count), vjust = -0.5) + theme_classic()\n",
    "\n",
    "city_plot <- train %>%\n",
    "  group_by(city) %>%\n",
    "  reframe(avg_lead_time_in_days = round(mean(lead_time_in_days))) %>%\n",
    "  arrange(desc(avg_lead_time_in_days))\n",
    "\n",
    "plot2 <- ggplot(city_plot, aes(x = reorder(city, -avg_lead_time_in_days), y = avg_lead_time_in_days)) +\n",
    "  geom_bar(stat = \"identity\", fill = \"#fff226\") +\n",
    "  labs(x = \"City\", y = \"Average Lead Time in Days\") +\n",
    "  geom_text(aes(label = avg_lead_time_in_days), vjust = -0.5) + theme_classic()\n",
    "\n",
    "grid.arrange(plot1, plot2, ncol = 2)"
   ]
  },
  {
   "cell_type": "markdown",
   "id": "52e14217",
   "metadata": {},
   "source": [
    "<div id=\"six\">\n",
    "    <div style=\"font-size:25pt;color:red;font-weight:700;padding:20px 0;line-height:1.2\">6. Feature Selection and Engineering</div>\n",
    "    <div style=\"text-align: right;\"><a href=\"#toc\" style=\"text-decoration:none;\">↑ Table of Contents</a></div>\n",
    "</div>"
   ]
  },
  {
   "cell_type": "code",
   "execution_count": 43,
   "id": "2e617912",
   "metadata": {},
   "outputs": [
    {
     "data": {
      "text/html": [
       "<table class=\"dataframe\">\n",
       "<caption>A data.frame: 1 × 5</caption>\n",
       "<thead>\n",
       "\t<tr><th></th><th scope=col>channel</th><th scope=col>occupation</th><th scope=col>city</th><th scope=col>age</th><th scope=col>lead_time_in_days</th></tr>\n",
       "\t<tr><th></th><th scope=col>&lt;fct&gt;</th><th scope=col>&lt;fct&gt;</th><th scope=col>&lt;fct&gt;</th><th scope=col>&lt;int&gt;</th><th scope=col>&lt;int&gt;</th></tr>\n",
       "</thead>\n",
       "<tbody>\n",
       "\t<tr><th scope=row>1</th><td>organic</td><td>job_seekers</td><td>jakarta</td><td>23</td><td>32</td></tr>\n",
       "</tbody>\n",
       "</table>\n"
      ],
      "text/latex": [
       "A data.frame: 1 × 5\n",
       "\\begin{tabular}{r|lllll}\n",
       "  & channel & occupation & city & age & lead\\_time\\_in\\_days\\\\\n",
       "  & <fct> & <fct> & <fct> & <int> & <int>\\\\\n",
       "\\hline\n",
       "\t1 & organic & job\\_seekers & jakarta & 23 & 32\\\\\n",
       "\\end{tabular}\n"
      ],
      "text/markdown": [
       "\n",
       "A data.frame: 1 × 5\n",
       "\n",
       "| <!--/--> | channel &lt;fct&gt; | occupation &lt;fct&gt; | city &lt;fct&gt; | age &lt;int&gt; | lead_time_in_days &lt;int&gt; |\n",
       "|---|---|---|---|---|---|\n",
       "| 1 | organic | job_seekers | jakarta | 23 | 32 |\n",
       "\n"
      ],
      "text/plain": [
       "  channel occupation  city    age lead_time_in_days\n",
       "1 organic job_seekers jakarta 23  32               "
      ]
     },
     "metadata": {},
     "output_type": "display_data"
    }
   ],
   "source": [
    "head(train, 1)"
   ]
  },
  {
   "cell_type": "code",
   "execution_count": 44,
   "id": "f392580a",
   "metadata": {},
   "outputs": [
    {
     "data": {
      "text/html": [
       "<table class=\"dataframe\">\n",
       "<caption>A data.frame: 1 × 5</caption>\n",
       "<thead>\n",
       "\t<tr><th></th><th scope=col>channel</th><th scope=col>occupation</th><th scope=col>city</th><th scope=col>age</th><th scope=col>lead_time_in_days</th></tr>\n",
       "\t<tr><th></th><th scope=col>&lt;fct&gt;</th><th scope=col>&lt;fct&gt;</th><th scope=col>&lt;fct&gt;</th><th scope=col>&lt;int&gt;</th><th scope=col>&lt;int&gt;</th></tr>\n",
       "</thead>\n",
       "<tbody>\n",
       "\t<tr><th scope=row>1</th><td>referral</td><td>student</td><td>bandung</td><td>22</td><td>32</td></tr>\n",
       "</tbody>\n",
       "</table>\n"
      ],
      "text/latex": [
       "A data.frame: 1 × 5\n",
       "\\begin{tabular}{r|lllll}\n",
       "  & channel & occupation & city & age & lead\\_time\\_in\\_days\\\\\n",
       "  & <fct> & <fct> & <fct> & <int> & <int>\\\\\n",
       "\\hline\n",
       "\t1 & referral & student & bandung & 22 & 32\\\\\n",
       "\\end{tabular}\n"
      ],
      "text/markdown": [
       "\n",
       "A data.frame: 1 × 5\n",
       "\n",
       "| <!--/--> | channel &lt;fct&gt; | occupation &lt;fct&gt; | city &lt;fct&gt; | age &lt;int&gt; | lead_time_in_days &lt;int&gt; |\n",
       "|---|---|---|---|---|---|\n",
       "| 1 | referral | student | bandung | 22 | 32 |\n",
       "\n"
      ],
      "text/plain": [
       "  channel  occupation city    age lead_time_in_days\n",
       "1 referral student    bandung 22  32               "
      ]
     },
     "metadata": {},
     "output_type": "display_data"
    }
   ],
   "source": [
    "head(test, 1)"
   ]
  },
  {
   "cell_type": "code",
   "execution_count": 45,
   "id": "2c66f1d1",
   "metadata": {},
   "outputs": [],
   "source": [
    "X_train <- train[ , -ncol(train)]\n",
    "y_train <- train$lead_time_in_days\n",
    "X_test <- test[ , -ncol(test)]\n",
    "y_test <- test$lead_time_in_days"
   ]
  },
  {
   "cell_type": "code",
   "execution_count": 46,
   "id": "fba867c6",
   "metadata": {},
   "outputs": [
    {
     "name": "stdout",
     "output_type": "stream",
     "text": [
      "X_train shape: 80x4 \n",
      "y_train shape: 80 \n",
      "X_test shape: 20x4 \n",
      "y_test shape: 20 \n"
     ]
    }
   ],
   "source": [
    "cat(\"X_train shape:\", paste(dim(X_train), collapse = \"x\"), \"\\n\")\n",
    "cat(\"y_train shape:\", paste(length(y_train)), \"\\n\")\n",
    "cat(\"X_test shape:\", paste(dim(X_test), collapse = \"x\"), \"\\n\")\n",
    "cat(\"y_test shape:\", paste(length(y_test)), \"\\n\")"
   ]
  },
  {
   "cell_type": "markdown",
   "id": "b62c4685",
   "metadata": {},
   "source": [
    "<div id=\"utilchisquare\">\n",
    "    <div style=\"font-size:20pt;font-weight:700;padding:20px 0;line-height:1.2\">6.1 Chi Square Test (Categorical Features)</div>\n",
    "    <div style=\"text-align: right;\"><a href=\"#toc\" style=\"text-decoration:none;\">↑ Table of Contents</a></div>\n",
    "</div>"
   ]
  },
  {
   "cell_type": "code",
   "execution_count": 47,
   "id": "cdf79ebd",
   "metadata": {},
   "outputs": [
    {
     "name": "stderr",
     "output_type": "stream",
     "text": [
      "Warning message in chisq.test(table(X_train$channel, y_train)):\n",
      "\"Chi-squared approximation may be incorrect\"\n"
     ]
    },
    {
     "data": {
      "text/plain": [
       "\n",
       "\tPearson's Chi-squared test\n",
       "\n",
       "data:  table(X_train$channel, y_train)\n",
       "X-squared = 93.553, df = 96, p-value = 0.5517\n"
      ]
     },
     "metadata": {},
     "output_type": "display_data"
    }
   ],
   "source": [
    "cst_channel <- chisq.test(table(X_train$channel, y_train))\n",
    "cst_channel"
   ]
  },
  {
   "cell_type": "code",
   "execution_count": 48,
   "id": "1f207e61",
   "metadata": {},
   "outputs": [
    {
     "name": "stderr",
     "output_type": "stream",
     "text": [
      "Warning message in chisq.test(table(X_train$occupation, y_train)):\n",
      "\"Chi-squared approximation may be incorrect\"\n"
     ]
    },
    {
     "data": {
      "text/plain": [
       "\n",
       "\tPearson's Chi-squared test\n",
       "\n",
       "data:  table(X_train$occupation, y_train)\n",
       "X-squared = 101.32, df = 96, p-value = 0.3354\n"
      ]
     },
     "metadata": {},
     "output_type": "display_data"
    }
   ],
   "source": [
    "cst_occupation <- chisq.test(table(X_train$occupation, y_train))\n",
    "cst_occupation"
   ]
  },
  {
   "cell_type": "code",
   "execution_count": 49,
   "id": "9caf8c6c",
   "metadata": {},
   "outputs": [
    {
     "name": "stderr",
     "output_type": "stream",
     "text": [
      "Warning message in chisq.test(table(X_train$city, y_train)):\n",
      "\"Chi-squared approximation may be incorrect\"\n"
     ]
    },
    {
     "data": {
      "text/plain": [
       "\n",
       "\tPearson's Chi-squared test\n",
       "\n",
       "data:  table(X_train$city, y_train)\n",
       "X-squared = 108.91, df = 96, p-value = 0.1735\n"
      ]
     },
     "metadata": {},
     "output_type": "display_data"
    }
   ],
   "source": [
    "cst_city <- chisq.test(table(X_train$city, y_train))\n",
    "cst_city"
   ]
  },
  {
   "cell_type": "code",
   "execution_count": 50,
   "id": "850e9807",
   "metadata": {},
   "outputs": [],
   "source": [
    "X_train <- X_train[ , -c(1,2,3)]\n",
    "X_test <- X_test[ , -c(1,2,3)]"
   ]
  },
  {
   "cell_type": "markdown",
   "id": "92bb29b0",
   "metadata": {},
   "source": [
    "<div id=\"anovaa\">\n",
    "    <div style=\"font-size:20pt;font-weight:700;padding:20px 0;line-height:1.2\">6.2 ANOVA (Numerical Features)</div>\n",
    "    <div style=\"text-align: right;\"><a href=\"#toc\" style=\"text-decoration:none;\">↑ Table of Contents</a></div>\n",
    "</div>"
   ]
  },
  {
   "cell_type": "code",
   "execution_count": 51,
   "id": "4898ff31",
   "metadata": {},
   "outputs": [
    {
     "data": {
      "text/plain": [
       "            Df Sum Sq Mean Sq F value Pr(>F)\n",
       "X_train      1      3    3.44   0.042  0.837\n",
       "Residuals   78   6335   81.22               "
      ]
     },
     "metadata": {},
     "output_type": "display_data"
    }
   ],
   "source": [
    "ad_aov <- aov(y_train ~ X_train, data = data.frame(X_train, y_train))\n",
    "summary(ad_aov)"
   ]
  },
  {
   "cell_type": "markdown",
   "id": "6786a8f5",
   "metadata": {},
   "source": [
    "<div id=\"corrmatrix\">\n",
    "    <div style=\"font-size:20pt;font-weight:700;padding:20px 0;line-height:1.2\">6.3 Correlation Matrix</div>\n",
    "    <div style=\"text-align: right;\"><a href=\"#toc\" style=\"text-decoration:none;\">↑ Table of Contents</a></div>\n",
    "</div>"
   ]
  },
  {
   "cell_type": "code",
   "execution_count": 52,
   "id": "599824fe",
   "metadata": {},
   "outputs": [],
   "source": [
    "age <- X_train\n",
    "lead_time_in_days <- y_train"
   ]
  },
  {
   "cell_type": "code",
   "execution_count": 53,
   "id": "cd4ca788",
   "metadata": {
    "scrolled": false
   },
   "outputs": [
    {
     "data": {
      "image/png": "[encoded data removed]",
      "text/plain": [
       "Plot with title \"\""
      ]
     },
     "metadata": {
      "image/png": {
       "height": 500,
       "width": 900
      }
     },
     "output_type": "display_data"
    }
   ],
   "source": [
    "data_cor <- as.matrix(data.frame(age, lead_time_in_days))\n",
    "\n",
    "cor_matrix <- cor(data_cor)\n",
    "\n",
    "corrplot(cor_matrix, method = \"color\", type = \"upper\", order = \"hclust\", addCoef.col = \"black\",\n",
    "         tl.col = \"black\", tl.srt = 45)"
   ]
  }
 ],
 "metadata": {
  "kernelspec": {
   "display_name": "R",
   "language": "R",
   "name": "ir"
  },
  "language_info": {
   "codemirror_mode": "r",
   "file_extension": ".r",
   "mimetype": "text/x-r-source",
   "name": "R",
   "pygments_lexer": "r",
   "version": "4.1.3"
  }
 },
 "nbformat": 4,
 "nbformat_minor": 5
}
